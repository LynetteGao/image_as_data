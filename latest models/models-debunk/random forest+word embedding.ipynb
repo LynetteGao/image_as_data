{
 "cells": [
  {
   "cell_type": "markdown",
   "metadata": {},
   "source": [
    "# Set-up of the project"
   ]
  },
  {
   "cell_type": "code",
   "execution_count": 1,
   "metadata": {},
   "outputs": [
    {
     "name": "stderr",
     "output_type": "stream",
     "text": [
      "[nltk_data] Downloading package stopwords to\n",
      "[nltk_data]     /Users/lynette/nltk_data...\n",
      "[nltk_data]   Package stopwords is already up-to-date!\n"
     ]
    }
   ],
   "source": [
    "# Basic packages\n",
    "import pandas as pd \n",
    "import numpy as np\n",
    "import re\n",
    "import collections\n",
    "import matplotlib.pyplot as plt\n",
    "from tensorflow import keras\n",
    "import tensorflow as tf\n",
    "\n",
    "# Packages for data preparation\n",
    "from sklearn.model_selection import train_test_split\n",
    "import nltk\n",
    "nltk.download('stopwords')\n",
    "from nltk.corpus import stopwords\n",
    "from keras.preprocessing.text import Tokenizer\n",
    "from keras.utils.np_utils import to_categorical\n",
    "from sklearn.preprocessing import LabelEncoder\n",
    "\n",
    "# Packages for modeling\n",
    "from keras import models\n",
    "from keras import layers\n",
    "from keras import regularizers\n",
    "\n",
    "from sklearn.metrics import average_precision_score\n",
    "from sklearn.metrics import recall_score\n"
   ]
  },
  {
   "cell_type": "code",
   "execution_count": null,
   "metadata": {},
   "outputs": [],
   "source": []
  },
  {
   "cell_type": "markdown",
   "metadata": {},
   "source": [
    "Set some parameters that will be used throughout the notebook."
   ]
  },
  {
   "cell_type": "markdown",
   "metadata": {},
   "source": [
    "We read in the csv with the tweets data and perform a random shuffle. It's a good practice to shuffle the data before splitting between a train and test set. We'll only keep the video decription column as input and the Relvancy column as the target."
   ]
  },
  {
   "cell_type": "code",
   "execution_count": 2,
   "metadata": {},
   "outputs": [
    {
     "data": {
      "text/plain": [
       "Index(['Unnamed: 0', 'video_id', 'channel_title', 'channel_id',\n",
       "       'video_publish_date', 'video_title', 'video_description',\n",
       "       'video_category', 'video_view_count', 'video_comment_count',\n",
       "       'video_like_count', 'video_dislike_count', 'video_thumbnail',\n",
       "       'video_tags', 'collection_date', 'science.topic', 'Relevancy',\n",
       "       'attitude', 'Text/video', 'search.term', 'cld2', 'transcript',\n",
       "       'transcript_nchar', 'videoid', 'conspiracy', 'var_r', 'var_g', 'var_b',\n",
       "       'var_h', 'var_s', 'var_v', 'var_bright', 'var_bright_sd',\n",
       "       'var_contrast', 'var_colorful', 'median_r', 'median_g', 'median_b',\n",
       "       'median_h', 'median_s', 'median_v', 'median_bright', 'median_bright_sd',\n",
       "       'median_contrast', 'median_colorful', 'r_mean', 'g_mean', 'b_mean',\n",
       "       'h_mean', 's_mean', 'v_mean', 'bright_mean', 'lightning_mean',\n",
       "       'contrast_mean', 'colorful_mean', 'color_lag'],\n",
       "      dtype='object')"
      ]
     },
     "execution_count": 2,
     "metadata": {},
     "output_type": "execute_result"
    }
   ],
   "source": [
    "df = pd.read_csv('handlabel_feature.csv')\n",
    "df.columns"
   ]
  },
  {
   "cell_type": "code",
   "execution_count": 3,
   "metadata": {},
   "outputs": [],
   "source": [
    "X = df[['transcript']]"
   ]
  },
  {
   "cell_type": "code",
   "execution_count": 4,
   "metadata": {},
   "outputs": [
    {
     "data": {
      "text/html": [
       "<div>\n",
       "<style scoped>\n",
       "    .dataframe tbody tr th:only-of-type {\n",
       "        vertical-align: middle;\n",
       "    }\n",
       "\n",
       "    .dataframe tbody tr th {\n",
       "        vertical-align: top;\n",
       "    }\n",
       "\n",
       "    .dataframe thead th {\n",
       "        text-align: right;\n",
       "    }\n",
       "</style>\n",
       "<table border=\"1\" class=\"dataframe\">\n",
       "  <thead>\n",
       "    <tr style=\"text-align: right;\">\n",
       "      <th></th>\n",
       "      <th>transcript</th>\n",
       "    </tr>\n",
       "  </thead>\n",
       "  <tbody>\n",
       "    <tr>\n",
       "      <th>0</th>\n",
       "      <td>with coronavirus completely changing our way o...</td>\n",
       "    </tr>\n",
       "    <tr>\n",
       "      <th>1</th>\n",
       "      <td>you all know I'm a big fan of conspiracy theor...</td>\n",
       "    </tr>\n",
       "    <tr>\n",
       "      <th>2</th>\n",
       "      <td>how do you handle an epidemic in the age of fa...</td>\n",
       "    </tr>\n",
       "    <tr>\n",
       "      <th>3</th>\n",
       "      <td>CaptionUnavailable</td>\n",
       "    </tr>\n",
       "    <tr>\n",
       "      <th>4</th>\n",
       "      <td>what's up guys Stephen here and welcome back t...</td>\n",
       "    </tr>\n",
       "    <tr>\n",
       "      <th>...</th>\n",
       "      <td>...</td>\n",
       "    </tr>\n",
       "    <tr>\n",
       "      <th>402</th>\n",
       "      <td>so the government work for us we don't work fo...</td>\n",
       "    </tr>\n",
       "    <tr>\n",
       "      <th>403</th>\n",
       "      <td>but even if 5g has nothing to do with this cor...</td>\n",
       "    </tr>\n",
       "    <tr>\n",
       "      <th>404</th>\n",
       "      <td>um some people believe that 5g like like for c...</td>\n",
       "    </tr>\n",
       "    <tr>\n",
       "      <th>405</th>\n",
       "      <td>this is a podcast from the South China Morning...</td>\n",
       "    </tr>\n",
       "    <tr>\n",
       "      <th>406</th>\n",
       "      <td>we're all catching the wires because of the fi...</td>\n",
       "    </tr>\n",
       "  </tbody>\n",
       "</table>\n",
       "<p>407 rows × 1 columns</p>\n",
       "</div>"
      ],
      "text/plain": [
       "                                            transcript\n",
       "0    with coronavirus completely changing our way o...\n",
       "1    you all know I'm a big fan of conspiracy theor...\n",
       "2    how do you handle an epidemic in the age of fa...\n",
       "3                                   CaptionUnavailable\n",
       "4    what's up guys Stephen here and welcome back t...\n",
       "..                                                 ...\n",
       "402  so the government work for us we don't work fo...\n",
       "403  but even if 5g has nothing to do with this cor...\n",
       "404  um some people believe that 5g like like for c...\n",
       "405  this is a podcast from the South China Morning...\n",
       "406  we're all catching the wires because of the fi...\n",
       "\n",
       "[407 rows x 1 columns]"
      ]
     },
     "execution_count": 4,
     "metadata": {},
     "output_type": "execute_result"
    }
   ],
   "source": [
    "X"
   ]
  },
  {
   "cell_type": "code",
   "execution_count": 5,
   "metadata": {},
   "outputs": [],
   "source": [
    "X = X[(X[\"transcript\"] != 'CaptionUnavailable') & (X[\"transcript\"] != 'VideoUnavailable')]"
   ]
  },
  {
   "cell_type": "code",
   "execution_count": 6,
   "metadata": {},
   "outputs": [
    {
     "data": {
      "text/plain": [
       "(313, 1)"
      ]
     },
     "execution_count": 6,
     "metadata": {},
     "output_type": "execute_result"
    }
   ],
   "source": [
    "X.shape"
   ]
  },
  {
   "cell_type": "code",
   "execution_count": 7,
   "metadata": {},
   "outputs": [],
   "source": [
    "from sklearn.preprocessing import LabelEncoder\n",
    "\n",
    "le = LabelEncoder()\n",
    "df['attitude'] = le.fit_transform(df['attitude'])"
   ]
  },
  {
   "cell_type": "code",
   "execution_count": 8,
   "metadata": {},
   "outputs": [
    {
     "data": {
      "text/plain": [
       "0      0\n",
       "1      0\n",
       "2      0\n",
       "4      0\n",
       "5      1\n",
       "      ..\n",
       "402    1\n",
       "403    0\n",
       "404    0\n",
       "405    0\n",
       "406    0\n",
       "Name: attitude, Length: 313, dtype: int64"
      ]
     },
     "execution_count": 8,
     "metadata": {},
     "output_type": "execute_result"
    }
   ],
   "source": [
    "y = df['attitude'][(df[\"transcript\"] != 'CaptionUnavailable') & (df[\"transcript\"] != 'VideoUnavailable')]\n",
    "y"
   ]
  },
  {
   "cell_type": "markdown",
   "metadata": {},
   "source": [
    "# Data preparation"
   ]
  },
  {
   "cell_type": "markdown",
   "metadata": {},
   "source": [
    "## Data cleaning"
   ]
  },
  {
   "cell_type": "markdown",
   "metadata": {},
   "source": [
    "The first thing we'll do is removing stopwords. These words do not have any value for predicting the sentiment.Also, we remove the http link in the texts"
   ]
  },
  {
   "cell_type": "code",
   "execution_count": 19,
   "metadata": {},
   "outputs": [
    {
     "data": {
      "text/plain": [
       "['i',\n",
       " 'me',\n",
       " 'my',\n",
       " 'myself',\n",
       " 'we',\n",
       " 'our',\n",
       " 'ours',\n",
       " 'ourselves',\n",
       " 'you',\n",
       " \"you're\",\n",
       " \"you've\",\n",
       " \"you'll\",\n",
       " \"you'd\",\n",
       " 'your',\n",
       " 'yours',\n",
       " 'yourself',\n",
       " 'yourselves',\n",
       " 'he',\n",
       " 'him',\n",
       " 'his',\n",
       " 'himself',\n",
       " 'she',\n",
       " \"she's\",\n",
       " 'her',\n",
       " 'hers',\n",
       " 'herself',\n",
       " 'it',\n",
       " \"it's\",\n",
       " 'its',\n",
       " 'itself',\n",
       " 'they',\n",
       " 'them',\n",
       " 'their',\n",
       " 'theirs',\n",
       " 'themselves',\n",
       " 'what',\n",
       " 'which',\n",
       " 'who',\n",
       " 'whom',\n",
       " 'this',\n",
       " 'that',\n",
       " \"that'll\",\n",
       " 'these',\n",
       " 'those',\n",
       " 'am',\n",
       " 'is',\n",
       " 'are',\n",
       " 'was',\n",
       " 'were',\n",
       " 'be',\n",
       " 'been',\n",
       " 'being',\n",
       " 'have',\n",
       " 'has',\n",
       " 'had',\n",
       " 'having',\n",
       " 'do',\n",
       " 'does',\n",
       " 'did',\n",
       " 'doing',\n",
       " 'a',\n",
       " 'an',\n",
       " 'the',\n",
       " 'and',\n",
       " 'but',\n",
       " 'if',\n",
       " 'or',\n",
       " 'because',\n",
       " 'as',\n",
       " 'until',\n",
       " 'while',\n",
       " 'of',\n",
       " 'at',\n",
       " 'by',\n",
       " 'for',\n",
       " 'with',\n",
       " 'about',\n",
       " 'against',\n",
       " 'between',\n",
       " 'into',\n",
       " 'through',\n",
       " 'during',\n",
       " 'before',\n",
       " 'after',\n",
       " 'above',\n",
       " 'below',\n",
       " 'to',\n",
       " 'from',\n",
       " 'up',\n",
       " 'down',\n",
       " 'in',\n",
       " 'out',\n",
       " 'on',\n",
       " 'off',\n",
       " 'over',\n",
       " 'under',\n",
       " 'again',\n",
       " 'further',\n",
       " 'then',\n",
       " 'once',\n",
       " 'here',\n",
       " 'there',\n",
       " 'when',\n",
       " 'where',\n",
       " 'why',\n",
       " 'how',\n",
       " 'all',\n",
       " 'any',\n",
       " 'both',\n",
       " 'each',\n",
       " 'few',\n",
       " 'more',\n",
       " 'most',\n",
       " 'other',\n",
       " 'some',\n",
       " 'such',\n",
       " 'no',\n",
       " 'nor',\n",
       " 'not',\n",
       " 'only',\n",
       " 'own',\n",
       " 'same',\n",
       " 'so',\n",
       " 'than',\n",
       " 'too',\n",
       " 'very',\n",
       " 's',\n",
       " 't',\n",
       " 'can',\n",
       " 'will',\n",
       " 'just',\n",
       " 'don',\n",
       " \"don't\",\n",
       " 'should',\n",
       " \"should've\",\n",
       " 'now',\n",
       " 'd',\n",
       " 'll',\n",
       " 'm',\n",
       " 'o',\n",
       " 're',\n",
       " 've',\n",
       " 'y',\n",
       " 'ain',\n",
       " 'aren',\n",
       " \"aren't\",\n",
       " 'couldn',\n",
       " \"couldn't\",\n",
       " 'didn',\n",
       " \"didn't\",\n",
       " 'doesn',\n",
       " \"doesn't\",\n",
       " 'hadn',\n",
       " \"hadn't\",\n",
       " 'hasn',\n",
       " \"hasn't\",\n",
       " 'haven',\n",
       " \"haven't\",\n",
       " 'isn',\n",
       " \"isn't\",\n",
       " 'ma',\n",
       " 'mightn',\n",
       " \"mightn't\",\n",
       " 'mustn',\n",
       " \"mustn't\",\n",
       " 'needn',\n",
       " \"needn't\",\n",
       " 'shan',\n",
       " \"shan't\",\n",
       " 'shouldn',\n",
       " \"shouldn't\",\n",
       " 'wasn',\n",
       " \"wasn't\",\n",
       " 'weren',\n",
       " \"weren't\",\n",
       " 'won',\n",
       " \"won't\",\n",
       " 'wouldn',\n",
       " \"wouldn't\"]"
      ]
     },
     "execution_count": 19,
     "metadata": {},
     "output_type": "execute_result"
    }
   ],
   "source": [
    "stopwords.words('english')"
   ]
  },
  {
   "cell_type": "code",
   "execution_count": 130,
   "metadata": {},
   "outputs": [
    {
     "name": "stdout",
     "output_type": "stream",
     "text": [
      "Collecting beautifulsoup4\n",
      "\u001b[?25l  Downloading https://files.pythonhosted.org/packages/d1/41/e6495bd7d3781cee623ce23ea6ac73282a373088fcd0ddc809a047b18eae/beautifulsoup4-4.9.3-py3-none-any.whl (115kB)\n",
      "\u001b[K     |████████████████████████████████| 122kB 3.5MB/s eta 0:00:01\n",
      "\u001b[?25hCollecting soupsieve>1.2; python_version >= \"3.0\" (from beautifulsoup4)\n",
      "  Downloading https://files.pythonhosted.org/packages/02/fb/1c65691a9aeb7bd6ac2aa505b84cb8b49ac29c976411c6ab3659425e045f/soupsieve-2.1-py3-none-any.whl\n",
      "Installing collected packages: soupsieve, beautifulsoup4\n",
      "Successfully installed beautifulsoup4-4.9.3 soupsieve-2.1\n",
      "\u001b[33mWARNING: You are using pip version 19.2.3, however version 20.3.3 is available.\n",
      "You should consider upgrading via the 'pip install --upgrade pip' command.\u001b[0m\n"
     ]
    }
   ],
   "source": [
    "!pip3 install beautifulsoup4"
   ]
  },
  {
   "cell_type": "code",
   "execution_count": 9,
   "metadata": {},
   "outputs": [
    {
     "name": "stdout",
     "output_type": "stream",
     "text": [
      "showing info https://raw.githubusercontent.com/nltk/nltk_data/gh-pages/index.xml\n"
     ]
    },
    {
     "name": "stderr",
     "output_type": "stream",
     "text": [
      "100%|██████████| 313/313 [00:06<00:00, 46.10it/s]"
     ]
    },
    {
     "name": "stdout",
     "output_type": "stream",
     "text": [
      "313\n"
     ]
    },
    {
     "name": "stderr",
     "output_type": "stream",
     "text": [
      "\n"
     ]
    }
   ],
   "source": [
    "from tqdm import tqdm\n",
    "from bs4 import BeautifulSoup\n",
    "import nltk\n",
    "nltk.download()\n",
    "from nltk.tokenize import word_tokenize\n",
    "from nltk.stem import WordNetLemmatizer\n",
    "from nltk.corpus import stopwords\n",
    "lemmatizer = WordNetLemmatizer()\n",
    "def clean_sentences(df):\n",
    "    reviews = []\n",
    "\n",
    "    for sent in tqdm(df['transcript']):\n",
    "        \n",
    "        #remove html content\n",
    "        review_text = BeautifulSoup(sent).get_text()\n",
    "        \n",
    "        #remove non-alphabetic characters\n",
    "        review_text = re.sub(\"[^a-zA-Z]\",\" \", review_text)\n",
    "    \n",
    "        #tokenize the sentences\n",
    "        words = word_tokenize(review_text.lower())\n",
    "    \n",
    "        #stop words removal\n",
    "        omit_words = set(stopwords.words('english'))\n",
    "        words = [x for x in words if x not in omit_words]\n",
    "        \n",
    "        #lemmatize each word to its lemma\n",
    "        lemma_words = [lemmatizer.lemmatize(i) for i in words]\n",
    "    \n",
    "        reviews.append(lemma_words)\n",
    "\n",
    "    return(reviews)\n",
    "\n",
    "#cleaned reviews for both train and test set retrieved\n",
    "train_sentences = clean_sentences(X)\n",
    "print(len(train_sentences))\n"
   ]
  },
  {
   "cell_type": "code",
   "execution_count": 141,
   "metadata": {
    "scrolled": false
   },
   "outputs": [
    {
     "data": {
      "text/plain": [
       "list"
      ]
     },
     "execution_count": 141,
     "metadata": {},
     "output_type": "execute_result"
    }
   ],
   "source": [
    "type(train_sentences)"
   ]
  },
  {
   "cell_type": "code",
   "execution_count": 139,
   "metadata": {},
   "outputs": [
    {
     "name": "stdout",
     "output_type": "stream",
     "text": [
      "Collecting gensim\n",
      "\u001b[?25l  Downloading https://files.pythonhosted.org/packages/70/cf/87b25b265d23498b2b70ce873495cf7ef91394c4baff240210e26f3bc18a/gensim-3.8.3-cp37-cp37m-macosx_10_9_x86_64.whl (24.2MB)\n",
      "\u001b[K     |████████████████████████████████| 24.2MB 15.0MB/s eta 0:00:01\n",
      "\u001b[?25hRequirement already satisfied, skipping upgrade: numpy>=1.11.3 in /Library/Frameworks/Python.framework/Versions/3.7/lib/python3.7/site-packages (from gensim) (1.18.5)\n",
      "Requirement already satisfied, skipping upgrade: six>=1.5.0 in /Library/Frameworks/Python.framework/Versions/3.7/lib/python3.7/site-packages (from gensim) (1.15.0)\n",
      "Requirement already satisfied, skipping upgrade: scipy>=0.18.1 in /Library/Frameworks/Python.framework/Versions/3.7/lib/python3.7/site-packages (from gensim) (1.4.1)\n",
      "Collecting smart-open>=1.8.1 (from gensim)\n",
      "\u001b[?25l  Downloading https://files.pythonhosted.org/packages/18/9c/a16951b5a66c86f0ea8ff5aca8d5c700138e708a76412ee7a2ec7fbd4b44/smart_open-4.1.0.tar.gz (116kB)\n",
      "\u001b[K     |████████████████████████████████| 122kB 13.0MB/s eta 0:00:01\n",
      "\u001b[?25hBuilding wheels for collected packages: smart-open\n",
      "  Building wheel for smart-open (setup.py) ... \u001b[?25ldone\n",
      "\u001b[?25h  Created wheel for smart-open: filename=smart_open-4.1.0-cp37-none-any.whl size=106205 sha256=14fdc46604f5469e9e897ff7cb11a539d1a1137f86b3a6bd8062effa2875e356\n",
      "  Stored in directory: /Users/lynette/Library/Caches/pip/wheels/eb/83/5c/ead33ff91d363db5c2527b563746ba23887669c0221bd2484f\n",
      "Successfully built smart-open\n",
      "Installing collected packages: smart-open, gensim\n",
      "Successfully installed gensim-3.8.3 smart-open-4.1.0\n",
      "\u001b[33mWARNING: You are using pip version 19.2.3, however version 20.3.3 is available.\n",
      "You should consider upgrading via the 'pip install --upgrade pip' command.\u001b[0m\n"
     ]
    }
   ],
   "source": [
    "!pip3 install --upgrade gensim"
   ]
  },
  {
   "cell_type": "code",
   "execution_count": 10,
   "metadata": {},
   "outputs": [
    {
     "name": "stderr",
     "output_type": "stream",
     "text": [
      "/Library/Frameworks/Python.framework/Versions/3.7/lib/python3.7/site-packages/tqdm/std.py:668: FutureWarning: The Panel class is removed from pandas. Accessing it from the top-level namespace will also be removed in the next version\n",
      "  from pandas import Panel\n"
     ]
    }
   ],
   "source": [
    "from tqdm import tqdm \n",
    "tqdm.pandas(desc=\"progress-bar\") \n",
    "from gensim.models.doc2vec import LabeledSentence"
   ]
  },
  {
   "cell_type": "markdown",
   "metadata": {},
   "source": [
    "To implement doc2vec, we have to labelise or tag each tokenised tweet with unique IDs. We can do so by using Gensim’s LabeledSentence() function."
   ]
  },
  {
   "cell_type": "code",
   "execution_count": 11,
   "metadata": {},
   "outputs": [
    {
     "data": {
      "text/plain": [
       "range(0, 313)"
      ]
     },
     "execution_count": 11,
     "metadata": {},
     "output_type": "execute_result"
    }
   ],
   "source": [
    "range(0,len(train_sentences))"
   ]
  },
  {
   "cell_type": "code",
   "execution_count": 12,
   "metadata": {},
   "outputs": [
    {
     "name": "stderr",
     "output_type": "stream",
     "text": [
      "/Library/Frameworks/Python.framework/Versions/3.7/lib/python3.7/site-packages/ipykernel_launcher.py:4: DeprecationWarning: Call to deprecated `LabeledSentence` (Class will be removed in 4.0.0, use TaggedDocument instead).\n",
      "  after removing the cwd from sys.path.\n"
     ]
    }
   ],
   "source": [
    "def add_label(twt):\n",
    "    output = []\n",
    "    for i, s in zip(range(0,len(twt)), twt):\n",
    "        output.append(LabeledSentence(s, [\"transcript_\" + str(i)]))\n",
    "    return output\n",
    "\n",
    "labeled_X = add_label(train_sentences) # label all the tweets"
   ]
  },
  {
   "cell_type": "code",
   "execution_count": 147,
   "metadata": {},
   "outputs": [
    {
     "data": {
      "text/plain": [
       "[LabeledSentence(words=['coronavirus', 'completely', 'changing', 'way', 'life', 'many', 'question', 'forced', 'u', 'ask', 'like', 'grocery', 'store', 'worker', 'delivery', 'people', 'essential', 'worker', 'earn', 'living', 'wage', 'health', 'care', 'tied', 'employment', 'okay', 'romantic', 'relationship', 'houseplant', 'get', 'done', 'finally', 'leave', 'house', 'normal', 'thing', 'like', 'tongue', 'kiss', 'uber', 'driver', 'gon', 'na', 'one', 'question', 'one', 'question', 'people', 'want', 'answer', 'anything', 'hell', 'disease', 'come', 'virus', 'shut', 'world', 'people', 'happy', 'people', 'happy', 'accept', 'official', 'explanation', 'china', 'virus', 'originated', 'live', 'animal', 'market', 'somehow', 'jumped', 'bat', 'human', 'like', 'okay', 'think', 'plot', 'dark', 'night', 'accept', 'u', 'stuck', 'house', 'nothing', 'except', 'throw', 'cat', 'birthday', 'party', 'zoo', 'everyone', 'everyone', 'home', 'time', 'come', 'theory', 'exactly', 'think', 'whole', 'thing', 'went', 'also', 'spending', 'lot', 'time', 'online', 'common', 'conspiracy', 'theory', 'seen', 'virus', 'jumped', 'bat', 'human', 'way', 'oreo', 'jumped', 'packaging', 'roommate', 'mouth', 'know', 'going', 'billy', 'see', 'theory', 'many', 'people', 'willing', 'accept', 'racism', 'people', 'saying', 'china', 'eat', 'kind', 'crazy', 'thing', 'hell', 'heard', 'eat', 'cooky', 'piece', 'paper', 'inside', 'also', 'ready', 'believe', 'pandemic', 'could', 'started', 'food', 'thing', 'look', 'man', 'situation', 'food', 'start', 'thing', 'like', 'flight', 'one', 'person', 'eats', 'tuna', 'sandwich', 'paid', 'price', 'story', 'made', 'sense', 'came', 'viral', 'video', 'people', 'eating', 'bad', 'soup', 'one', 'even', 'filmed', 'china', 'yeah', 'found', 'virus', 'survive', 'cooking', 'anyway', 'window', 'heard', 'different', 'conspiracy', 'theory', 'totally', 'make', 'sense', 'see', 'turn', 'corona', 'never', 'virus', 'actually', 'weapon', 'created', 'take', 'old', 'people', 'go', 'online', 'shortage', 'conspiracy', 'theory', 'alright', 'one', 'virus', 'bioengineered', 'lab', 'scientist', 'used', 'weapon', 'form', 'population', 'control', 'theory', 'former', 'politician', 'bronwyn', 'bishop', 'also', 'suggested', 'get', 'rid', 'non', 'productive', 'chinese', 'chinese', 'community', 'word', 'george', 'furniture', 'eliminated', 'filled', 'roseanne', 'barr', 'calling', 'novel', 'coronavirus', 'pandemic', 'ploy', 'kill', 'baby', 'boomer', 'alright', 'theory', 'theory', 'made', 'complete', 'sense', 'dye', 'virus', 'old', 'people', 'dy', 'anyway', 'old', 'people', 'bam', 'perfect', 'crime', 'think', 'soon', 'people', 'started', 'saying', 'okay', 'booma', 'sudden', 'got', 'coronavirus', 'old', 'people', 'dying', 'coincidence', 'might', 'asking', 'oh', 'would', 'anyone', 'would', 'anyone', 'want', 'take', 'old', 'people', 'well', 'know', 'maybe', 'someone', 'tired', 'giving', 'seat', 'bus', 'maybe', 'restaurant', 'owner', 'tired', 'open', 'dinner', 'p', 'maybe', 'young', 'people', 'tired', 'getting', 'as', 'whipped', 'bingo', 'point', 'motive', 'admit', 'much', 'wanted', 'believe', 'theory', 'ayah', 'let', 'go', 'okay', 'team', 'scientist', 'scientist', 'degree', 'qualification', 'sequenced', 'genome', 'corona', 'virus', 'broke', 'found', 'unlike', 'every', 'miami', 'virus', 'definitely', 'man', 'made', 'okay', 'fine', 'maybe', 'biological', 'weapon', 'designed', 'destroy', 'slot', 'machine', 'economy', 'favorite', 'theory', 'anyway', 'one', 'theory', 'one', 'theory', 'actually', 'make', 'sense', 'conspiracy', 'theory', 'sweeping', 'globe', 'coronavirus', 'caused', 'g', 'technology', 'theory', 'g', 'damage', 'human', 'immune', 'system', 'u', 'know', 'taking', 'place', 'right', 'nose', 'five', 'jack', 'actually', 'absorbs', 'oxygen', 'really', 'important', 'know', 'five', 'get', 'switched', 'people', 'drop', 'like', 'fly', 'sudden', 'got', 'excuse', 'well', 'virus', 'going', 'people', 'uk', 'bought', 'much', 'started', 'lighting', 'cellphone', 'tower', 'fire', 'fuzzy', 'bunny', 'yes', 'yeah', 'got', 'put', 'end', 'coronavirus', 'group', 'chat', 'know', 'people', 'part', 'group', 'know', 'sitting', 'home', 'right', 'smuggling', 'oh', 'g', 'cuz', 'virus', 'tell', 'ask', 'question', 'g', 'superfast', 'network', 'run', 'air', 'know', 'else', 'go', 'air', 'cooler', 'virus', 'else', 'go', 'air', 'superman', 'burger', 'eat', 'watching', 'last', 'superman', 'movie', 'five', 'guy', 'five', 'guy', 'g', 'rest', 'case', 'gon', 'na', 'lie', 'coverage', 'gap', 'g', 'theory', 'thing', 'make', 'doubt', 'starter', 'every', 'part', 'theory', 'completely', 'ridiculous', 'biologically', 'impossible', 'mention', 'coronavirus', 'also', 'exploded', 'place', 'even', 'g', 'figured', 'yet', 'g', 'like', 'g', 'g', 'broadcast', 'low', 'frequency', 'weak', 'damage', 'yeah', 'saying', 'g', 'make', 'sick', 'sort', 'like', 'saying', 'iphone', 'flashlight', 'gave', 'sunburn', 'fact', 'g', 'broadcast', 'range', 'normal', 'radio', 'yeah', 'let', 'honest', 'dangerous', 'thing', 'gotten', 'radio', 'virus', 'mumble', 'number', 'five', 'killed', 'people', 'top', 'corona', 'virus', 'come', 'fro', 'know', 'happy', 'said', 'know', 'tell', 'care', 'conspiracy', 'theory', 'debunked', 'taking', 'chance', 'longer', 'ordering', 'popeyes', 'spicy', 'bad', 'sandwich', 'even', 'though', 'delicious', 'also', 'decided', 'gon', 'na', 'get', 'old', 'risky', 'importantly', 'stopped', 'using', 'cell', 'phone', 'yeah', 'g', 'use', 'pager', 'ya', 'know', 'make', 'harder', 'send', 'nude', 'gon', 'na', 'best', 'know', 'alternative', 'could', 'wait', 'doctor', 'scientist', 'figure', 'virus', 'came', 'mean', 'come', 'man', 'crazy', 'well', 'show', 'tonight', 'go', 'able', 'help', 'people', 'going', 'hungry', 'pandemic', 'please', 'consider', 'donation', 'feeding', 'america', 'supplying', 'food', 'million', 'people', 'america', 'every', 'single', 'day', 'could', 'really', 'use', 'help', 'even', 'dollar', 'help', 'somebody', 'get', 'meal', 'stay', 'safe', 'wash', 'hand', 'remember', 'thing', 'need', 'get', 'crisis', 'right', 'keep', 'weed', 'inside', 'see', 'next', 'week'], tags=['transcript_0']),\n",
       " LabeledSentence(words=['know', 'big', 'fan', 'conspiracy', 'theory', 'long', 'harmless', 'fun', 'one', 'know', 'reptilian', 'controlling', 'world', 'talking', 'like', 'zipper', 'side', 'powerful', 'people', 'neck', 'reveal', 'giant', 'lizard', 'underneath', 'human', 'skin', 'suit', 'flat', 'earth', 'always', 'classic', 'fun', 'one', 'play', 'dangerous', 'one', 'think', 'one', 'really', 'taking', 'huge', 'upswing', 'amount', 'people', 'believe', 'g', 'causing', 'corona', 'virus', 'month', 'ago', 'fucking', 'joke', 'across', 'entire', 'internet', 'last', 'month', 'everyone', 'quarantine', 'lockdown', 'desperate', 'bored', 'think', 'getting', 'fucking', 'dumber', 'many', 'people', 'ironically', 'believing', 'g', 'cause', 'coronavirus', 'actually', 'believe', 'people', 'probably', 'believe', 'chocolate', 'milk', 'come', 'brown', 'cow', 'take', 'mere', 'minute', 'research', 'outside', 'facebook', 'auntie', 'vax', 'actual', 'scientific', 'research', 'take', 'minute', 'immediately', 'disprove', 'find', 'connection', 'g', 'tower', 'corona', 'virus', 'shocking', 'majority', 'people', 'people', 'speaking', 'blasphemy', 'puppet', 'illuminati', 'people', 'saying', 'people', 'see', 'truth', 'high', 'school', 'dropout', 'failed', 'every', 'fucking', 'course', 'know', 'one', 'understand', 'g', 'connection', 'corona', 'virus', 'scientist', 'expert', 'fucking', 'limp', 'dicked', 'fucking', 'idiot', 'sitting', 'basement', 'fear', 'government', 'listening', 'alarm', 'clock', 'tinfoil', 'hat', 'condom', 'real', 'intellectual', 'spreading', 'kind', 'shit', 'internet', 'laughable', 'fun', 'make', 'fun', 'starting', 'set', 'cell', 'cell', 'phone', 'tower', 'fire', 'fucking', 'crazy', 'getting', 'actually', 'dangerous', 'start', 'fucking', 'science', 'professor', 'gon', 'na', 'tackle', 'every', 'angle', 'gon', 'na', 'point', 'common', 'obvious', 'fallacy', 'logic', 'g', 'corona', 'virus', 'culprit', 'one', 'really', 'controlling', 'government', 'big', 'brother', 'got', 'u', 'thumb', 'want', 'u', 'see', 'earth', 'really', 'flat', 'using', 'coronavirus', 'keep', 'u', 'inside', 'wrecked', 'g', 'tower', 'start', 'origin', 'conspiracy', 'least', 'regard', 'corona', 'virus', 'china', 'wuhan', 'g', 'tower', 'rolled', 'end', 'little', 'bit', 'corona', 'virus', 'broke', 'people', 'attributing', 'tower', 'cause', 'ground', 'zero', 'coronavirus', 'tower', 'caused', 'pretty', 'much', 'logic', 'end', 'spread', 'united', 'state', 'saying', 'g', 'tower', 'cause', 'coronavirus', 'u', 'contagious', 'know', 'spreading', 'around', 'people', 'tower', 'emitting', 'much', 'radiation', 'causing', 'corona', 'virus', 'corona', 'virus', 'even', 'real', 'made', 'hoax', 'cover', 'radiation', 'poisoning', 'spent', 'hour', 'researching', 'conspiracy', 'theory', 'looking', 'around', 'everyone', 'say', 'twitter', 'circle', 'truly', 'believe', 'stuff', 'seem', 'agree', 'corona', 'virus', 'real', 'radiation', 'sickness', 'symptom', 'radiation', 'sickness', 'similar', 'reported', 'corona', 'virus', 'basically', 'whole', 'conspiracy', 'nutshell', 'fucking', 'ridiculous', 'g', 'tower', 'existed', 'u', 'since', 'early', 'idea', 'g', 'existed', 'much', 'longer', 'people', 'seem', 'think', 'g', 'longer', 'really', 'start', 'getting', 'g', 'early', 'actual', 'tower', 'everything', 'built', 'around', 'u', 'make', 'believe', 'like', 'tooth', 'fairy', 'shit', 'real', 'go', 'see', 'g', 'tower', 'real', 'world', 'person', 'smoke', 'mirror', 'magic', 'trick', 'shit', 'since', 'case', 'corona', 'virus', 'u', 'throughout', 'case', 'corona', 'virus', 'u', 'china', 'incident', 'corona', 'virus', 'started', 'explode', 'know', 'story', 'go', 'spread', 'throughout', 'entire', 'world', 'seem', 'think', 'actually', 'spreading', 'human', 'human', 'contact', 'transmitted', 'via', 'beam', 'tower', 'g', 'seems', 'accepted', 'belief', 'gon', 'na', 'mmediately', 'poke', 'hole', 'israel', 'case', 'corona', 'virus', 'dead', 'israel', 'g', 'tower', 'none', 'fuck', 'happen', 'logic', 'enlightened', 'twitter', 'user', 'quick', 'point', 'radiation', 'sickness', 'transferred', 'someone', 'infected', 'tower', 'u', 'part', 'world', 'travel', 'israel', 'started', 'spreading', 'way', 'well', 'impossible', 'via', 'radiation', 'sickness', 'hypothesis', 'asian', 'sickness', 'contagious', 'watched', 'chernobyl', 'hbo', 'think', 'understand', 'everything', 'know', 'radiation', 'well', 'tell', 'one', 'thing', 'chernobyl', 'got', 'wrong', 'kind', 'walking', 'fucking', 'virus', 'radiation', 'sickness', 'someone', 'know', 'radiation', 'sickness', 'transfer', 'onto', 'entire', 'fucking', 'clothes', 'entire', 'wardrobe', 'covered', 'dense', 'radiation', 'suffer', 'try', 'suffocate', 'maybe', 'whole', 'radiation', 'sickness', 'contagious', 'immediately', 'throw', 'radiation', 'sickness', 'hypothesis', 'able', 'spread', 'corona', 'virus', 'exist', 'contagious', 'people', 'ordered', 'stay', 'inside', 'radiation', 'poisoning', 'radiation', 'sickness', 'matter', 'around', 'thousand', 'people', 'one', 'gon', 'na', 'catch', 'easy', 'poke', 'thousand', 'different', 'hole', 'g', 'coronavirus', 'conspiracy', 'turn', 'shit', 'fucking', 'pin', 'cushion', 'weak', 'many', 'people', 'still', 'believe', 'think', 'want', 'want', 'believe', 'something', 'bigger', 'like', 'like', 'grand', 'conspiracy', 'man', 'trying', 'keep', 'something', 'silly', 'look', 'going', 'hard', 'laugh', 'leap', 'conclusion', 'draw', 'nonsensical', 'ridiculous', 'picked', 'two', 'quick', 'one', 'point', 'two', 'obvious', 'one', 'really', 'answer', 'seen', 'sure', 'going', 'comment', 'video', 'immediately', 'disregard', 'shit', 'still', 'try', 'promote', 'idea', 'g', 'coronavirus', 'thing', 'real', 'pathetic', 'anyway', 'know', 'need', 'poke', 'hole', 'already', 'goddamn', 'silly', 'even', 'look', 'second', 'like', 'fucking', 'science', 'teacher', 'graduated', 'university', 'human', 'science', 'degree', 'understand', 'lot', 'stuff', 'granted', 'brushed', 'whole', 'field', 'used', 'mean', 'barely', 'fucking', 'use', 'knowledge', 'anymore', 'get', 'understand', 'fear', 'come', 'locked', 'inside', 'desperate', 'looking', 'answer', 'idea', 'else', 'turn', 'twitter', 'giant', 'fucking', 'platform', 'full', 'lunatic', 'seem', 'believe', 'promoting', 'real', 'thing', 'since', 'constantly', 'twitter', 'nothing', 'else', 'besides', 'jerk', 'read', 'bitch', 'twitter', 'post', 'see', 'started', 'accept', 'get', 'blaming', 'people', 'dangerous', 'thing', 'blindly', 'follow', 'shit', 'science', 'research', 'find', 'interesting', 'community', 'real', 'scientist', 'apprehensive', 'g', 'implementation', 'future', 'g', 'health', 'implication', 'could', 'line', 'conspiracy', 'side', 'thing', 'using', 'promote', 'idea', 'scientist', 'afraid', 'may', 'think', 'scientist', 'believe', 'caused', 'coronavirus', 'truth', 'scientist', 'afraid', 'five', 'g', 'implication', 'line', 'said', 'anything', 'coronavirus', 'related', 'focusing', 'scientist', 'main', 'concern', 'able', 'study', 'long', 'term', 'health', 'effect', 'g', 'could', 'future', 'nothing', 'corona', 'virus', 'anything', 'like', 'community', 'want', 'little', 'research', 'done', 'g', 'implemented', 'think', 'perhaps', 'bit', 'rushed', 'nothing', 'fucking', 'scientist', 'thinking', 'cause', 'corona', 'virus', 'small', 'community', 'either', 'look', 'g', 'video', 'youtube', 'right', 'overwhelmingly', 'disliked', 'thousand', 'comment', 'saying', 'bullshit', 'trust', 'rise', 'sheeple', 'time', 'take', 'back', 'life', 'let', 'control', 'mind', 'know', 'let', 'anyone', 'tell', 'believe', 'told', 'believe', 'somebody', 'else', 'know', 'questioning', 'medium', 'questioning', 'source', 'lot', 'research', 'form', 'opinion', 'find', 'seriously', 'hypocritical', 'community', 'keep', 'saying', 'trust', 'anyone', 'trust', 'make', 'sense', 'like', 'listen', 'anyone', 'let', 'anyone', 'tell', 'believe', 'told', 'believe', 'dude', 'shit', 'stained', 'underwear', 'chat', 'room', 'somewhere', 'fucking', 'silly', 'hypocritical', 'questioning', 'thing', 'see', 'medium', 'online', 'think', 'healthy', 'thing', 'start', 'entering', 'echo', 'chamber', 'looking', 'thing', 'support', 'want', 'believe', 'getting', 'anywhere', 'making', 'problem', 'worse', 'focusing', 'coronavirus', 'aspect', 'conspiracy', 'theory', 'go', 'much', 'deeper', 'g', 'rabbit', 'hole', 'crazy', 'amount', 'conspiracy', 'especially', 'youtube', 'reason', 'seems', 'lot', 'youtubers', 'youtube', 'commenters', 'really', 'believe', 'five', 'g', 'ultimate', 'boogeyman', 'like', 'final', 'bos', 'holding', 'back', 'human', 'specie', 'like', 'g', 'one', 'keeping', 'u', 'growing', 'wing', 'opening', 'third', 'eye', 'weird', 'know', 'everyone', 'latched', 'g', 'mega', 'evil', 'mastermind', 'shit', 'input', 'regard', 'coronavirus', 'want', 'focus', 'absolutely', 'possible', 'way', 'g', 'caused', 'coronavirus', 'look', 'data', 'like', 'real', 'time', 'couple', 'month', 'see', 'g', 'role', 'play', 'pretty', 'much', 'trace', 'coronavirus', 'started', 'area', 'right', 'fucking', 'finger', 'tit', 'need', 'look', 'second', 'real', 'actual', 'fucking', 'source', 'outside', 'bad', 'twitter', 'shit', 'post', 'anti', 'vaxxer', 'mom', 'group', 'real', 'fucking', 'research', 'form', 'opinion', 'one', 'silly', 'lighting', 'g', 'cellphone', 'tower', 'fire', 'anyone', 'good', 'causing', 'damage', 'chemical', 'put', 'air', 'fucking', 'burning', 'thing', 'g', 'raise', 'beam', 'fear', 'cellphone', 'networking', 'existed', 'long', 'communication', 'always', 'ridiculous', 'always', 'silly', 'laughable', 'twitter', 'place', 'matter', 'outlandish', 'ridiculous', 'belief', 'going', 'blow', 'going', 'big', 'movement', 'behind', 'matter', 'like', 'twitter', 'example', 'whole', 'community', 'people', 'fuck', 'dog', 'like', 'community', 'would', 'never', 'find', 'home', 'anywhere', 'find', 'home', 'twitter', 'thousand', 'chat', 'page', 'twitter', 'actively', 'talk', 'fucking', 'dog', 'ten', 'thousand', 'follower', 'support', 'thing', 'absolutely', 'fucking', 'disgusting', 'people', 'believe', 'cellphone', 'evil', 'dangerous', 'thing', 'people', 'want', 'feel', 'like', 'smarter', 'everyone', 'else', 'know', 'one', 'saw', 'truth', 'peek', 'behind', 'curtain', 'got', 'truth', 'believe', 'thing', 'spread', 'twitter', 'people', 'gullible', 'bored', 'susceptible', 'misinformation', 'start', 'believing', 'start', 'getting', 'real', 'riled', 'lead', 'absolute', 'chaos', 'lead', 'setting', 'g', 'tower', 'fire', 'fucking', 'reason', 'crazy', 'shit', 'get', 'people', 'targeting', 'g', 'coronavirus', 'specifically', 'really', 'nothing', 'piece', 'evidence', 'even', 'remotely', 'martin', 'jesus', 'remotely', 'true', 'g', 'tower', 'built', 'whoo', 'ha', 'n', 'couple', 'month', 'coronavirus', 'outbreak', 'another', 'thing', 'see', 'tossed', 'around', 'one', 'fucking', 'stupid', 'community', 'plotted', 'every', 'major', 'pandemic', 'every', 'major', 'flu', 'correlated', 'mobile', 'tower', 'networking', 'correlation', 'also', 'like', 'spanish', 'flu', 'world', 'first', 'prototype', 'mobile', 'network', 'coincidence', 'think', 'like', 'six', 'say', 'six', 'coincidence', 'impossible', 'fucking', 'stupid', 'go', 'history', 'correlate', 'every', 'single', 'one', 'pandemic', 'flu', 'something', 'else', 'know', 'peanut', 'butter', 'sandwich', 'invented', 'four', 'year', 'later', 'spanish', 'flu', 'interesting', 'peanut', 'butter', 'jelly', 'sandwich', 'start', 'getting', 'packaged', 'know', 'next', 'one', 'dumb', 'fucking', 'terrible', 'research', 'evidence', 'yet', 'people', 'believing', 'face', 'value', 'probably', 'boredom', 'quarantine', 'wanted', 'talk', 'cuz', 'good', 'got', 'fucking', 'fired', 'shit', 'wacky', 'kind', 'fun', 'laugh', 'conspiracy', 'theory', 'like', 'flat', 'earth', 'one', 'people', 'believing', 'fine', 'go', 'outside', 'spread', 'fucking', 'shit', 'place', 'especially', 'time', 'pandemic', 'like', 'convinced', 'know', 'truth', 'cell', 'phone', 'tower', 'coronavirus', 'hurting', 'everyone', 'around', 'think', 'terrible', 'wanted', 'talk', 'see', 'ya'], tags=['transcript_1']),\n",
       " LabeledSentence(words=['handle', 'epidemic', 'age', 'fake', 'news', 'carefully', 'orchestrated', 'official', 'message', 'fully', 'understand', 'public', 'concern', 'science', 'based', 'driven', 'expert', 'advice', 'currently', 'evidence', 'china', 'least', 'would', 'imply', 'child', 'much', 'le', 'disease', 'backed', 'advertising', 'mainstream', 'medium', 'lie', 'rumor', 'theory', 'spread', 'speed', 'around', 'social', 'medium', 'internet', 'new', 'challenge', 'government', 'treading', 'line', 'information', 'preparedness', 'panic', 'never', 'prevent', 'people', 'panicking', 'speculating', 'possible', 'cause', 'particularly', 'health', 'situation', 'however', 'think', 'seeing', 'much', 'proactive', 'stance', 'social', 'medium', 'company', 'compared', 'saw', 'response', 'disinformation', 'election', 'battle', 'infidel', 'ik', 'world', 'health', 'organization', 'fighting', 'reportedly', 'held', 'meeting', 'tech', 'group', 'like', 'facebook', 'amazon', 'airbnb', 'providing', 'accurate', 'information', 'today', 'facebook', 'founder', 'pledged', 'act', 'offering', 'free', 'advert', 'w', 'h', 'saying', 'would', 'remove', 'false', 'claim', 'block', 'exploitative', 'ad', 'social', 'medium', 'platform', 'raise', 'question', 'future', 'whether', 'bringing', 'much', 'establishment', 'much', 'role', 'say', 'broadcaster', 'take', 'responsibility', 'platform', 'effect', 'another', 'weapon', 'spread', 'fake', 'online', 'news', 'government', 'provision', 'clear', 'credible', 'information', 'crucial', 'part', 'battle', 'well', 'closed', 'strategy', 'something', 'nobody', 'recommends', 'people', 'recommend', 'powering', 'population', 'helping', 'understand', 'going', 'need', 'watching', 'order', 'prevent', 'getting', 'infected', 'prevent', 'others', 'getting', 'infected', 'really', 'openness', 'necessary', 'outbreak', 'contained', 'contained', 'say', 'air', 'type', 'pretty', 'close', 'air', 'tight', 'mean', 'country', 'leader', 'seemed', 'keen', 'play', 'seriousness', 'situation', 'politicizing', 'coronavirus', 'think', 'new', 'hoax', 'nonetheless', 'trump', 'white', 'house', 'say', 'took', 'strong', 'action', 'early', 'truth', 'western', 'democracy', 'generally', 'pretty', 'good', 'disseminating', 'information', 'citizen', 'u', 'administration', 'policy', 'advisor', 'told', 'news', 'night', 'questioned', 'whether', 'iran', 'tight', 'hold', 'information', 'exacerbated', 'spread', 'disease', 'regime', 'delay', 'telling', 'people', 'outbreak', 'corona', 'virus', 'consequence', 'people', 'take', 'necessary', 'precaution', 'today', 'iran', 'highest', 'death', 'rate', 'world', 'coronavirus', 'saw', 'interview', 'doctor', 'cuza', 'stan', 'province', 'said', 'regime', 'covered', 'month', 'clear', 'epidemic', 'regime', 'prepared', 'faith', 'politician', 'indeed', 'medium', 'important', 'public', 'health', 'crisis', 'covert', 'perhaps', 'hit', 'wrong', 'time', 'still', 'inclination', 'look', 'odd', 'place', 'answer', 'look', 'like', 'life', 'serious', 'thing', 'football', 'manager', 'opinion', 'important', 'politics', 'coronavirus', 'base', 'cap', 'bed', 'shade', 'challenge', 'barely', 'began', 'new', 'virus', 'could', 'also', 'raise', 'st', 'century', 'question', 'gatekeeper', 'information', 'crisis', 'ultimately', 'trust', 'joining', 'victoria', 'bane', 'former', 'facebook', 'trust', 'safety', 'manager', 'anna', 'sophie', 'harlan', 'news', 'guard', 'online', 'browser', 'extension', 'report', 'digital', 'misinformation', 'monitor', 'news', 'website', 'reliability', 'annasophia', 'start', 'look', 'inaccurate', 'source', 'information', 'online', 'come', 'coronavirus', 'found', 'seen', 'overwhelmingly', 'user', 'around', 'globe', 'going', 'source', 'like', 'facebook', 'twitter', 'accessing', 'would', 'call', 'read', 'rated', 'source', 'unreliable', 'source', 'crona', 'information', 'seen', 'source', 'like', 'w', 'show', 'u', 'center', 'disease', 'control', 'amassed', 'share', 'engagement', 'facebook', 'last', 'couple', 'week', 'around', 'whereas', 'read', 'rated', 'health', 'source', 'spreading', 'coronavirus', 'misinformation', 'amassed', 'something', 'like', 'fifty', 'two', 'million', 'engagement', 'quite', 'shocking', 'seeing', 'similar', 'number', 'coming', 'uk', 'despite', 'facebook', 'best', 'effort', 'nh', 'website', 'receiving', 'much', 'traffic', 'uk', 'opposed', 'u', 'red', 'rated', 'source', 'actually', 'seeing', 'shared', 'widely', 'uk', 'victoria', 'facebook', 'made', 'announcement', 'easy', 'take', 'sort', 'information', 'misinformation', 'understand', 'seen', 'reporting', 'taking', 'material', 'reported', 'one', 'measure', 'company', 'like', 'facebook', 'would', 'say', 'also', 'google', 'google', 'search', 'youtube', 'taking', 'moment', 'working', 'world', 'health', 'organization', 'nh', 'hotline', 'like', 'official', 'source', 'also', 'promoting', 'official', 'source', 'people', 'logging', 'facebook', 'today', 'using', 'google', 'search', 'today', 'noticed', 'so', 'alert', 'top', 'news', 'feed', 'search', 'page', 'search', 'coronavirus', 'behind', 'scene', 'also', 'another', 'approach', 'try', 'investigate', 'identify', 'remove', 'possible', 'source', 'coordinated', 'disinformation', 'something', 'president', 'putin', 'course', 'alluded', 'today', 'impossible', 'hostile', 'actor', 'looking', 'sow', 'disinformation', 'deliberately', 'saying', 'ana', 'sophie', 'misinformation', 'spreading', 'almost', 'quickly', 'virus', 'mean', 'look', 'mentioned', 'earlier', 'know', 'anti', 'vaxxers', 'talking', 'weaponized', 'disease', 'yeah', 'weaponized', 'know', 'issue', 'know', 'gon', 'na', 'undermine', 'brexit', 'sort', 'kind', 'crazy', 'idea', 'spreading', 'yeah', 'new', 'coronavirus', 'cause', 'misinformation', 'online', 'misinformation', 'disinformation', 'existed', 'long', 'tech', 'platform', 'existed', 'right', 'seeing', 'brought', 'foreground', 'tech', 'platform', 'really', 'taking', 'action', 'new', 'scart', 'would', 'like', 'see', 'sort', 'action', 'promoting', 'quality', 'content', 'bringing', 'greater', 'transparency', 'platform', 'educating', 'consumer', 'locate', 'quality', 'source', 'something', 'extend', 'beyond', 'coronavirus', 'really', 'kind', 'action', 'would', 'want', 'tech', 'platform', 'see', 'every', 'day', 'empower', 'consumer', 'quality', 'information', 'touched', 'earlier', 'russian', 'bot', 'example', 'spreading', 'conspiracy', 'theory', 'people', 'misinformed', 'putting', 'thing', 'wrong', 'online', 'far', 'seen', 'lot', 'evidence', 'russian', 'bot', 'although', 'may', 'emerge', 'time', 'follow', 'anna', 'anna', 'sophia', 'saying', 'would', 'really', 'like', 'see', 'much', 'responsibility', 'member', 'public', 'check', 'seeing', 'good', 'analogy', 'cybersecurity', 'spread', 'infection', 'nothing', 'talked', 'computer', 'virus', 'spreading', 'know', 'computer', 'infection', 'would', 'like', 'see', 'people', 'taking', 'responsibility', 'share', 'friend', 'family', 'exactly', 'way', 'talked', 'cough', 'sneeze', 'would', 'like', 'add', 'give', 'people', 'responsibility', 'also', 'need', 'give', 'tool', 'make', 'informed', 'decision', 'think', 'really', 'important', 'educate', 'online', 'user', 'locate', 'quality', 'source', 'identify', 'example', 'might', 'behind', 'certain', 'website', 'might', 'motivation', 'aside', 'bot', 'sort', 'foreign', 'born', 'propaganda', 'really', 'seeing', 'term', 'online', 'health', 'myth', 'disinformation', 'malicious', 'actor', 'take', 'advantage', 'fear', 'hysteria', 'surrounding', 'coronavirus', 'right', 'vaccine', 'kind', 'health', 'issue', 'order', 'turn', 'profit', 'might', 'publishing', 'false', 'information', 'get', 'ad', 'click', 'might', 'simply', 'trying', 'promote', 'certain', 'product', 'often', 'time', 'quite', 'harmful', 'product', 'need', 'teach', 'people', 'think', 'person', 'trying', 'get', 'message', 'coming', 'across', 'trying', 'motivate', 'attention', 'fear', 'likely', 'people', 'realize', 'self', 'regulate', 'tool', 'really', 'challenging', 'actually', 'live', 'environment', 'encouraged', 'online', 'interaction', 'click', 'click', 'offer', 'click', 'ad', 'delaying', 'gratification', 'one', 'challenge', 'u', 'work', 'cyber', 'security', 'challenge', 'stopping', 'people', 'clicking', 'link', 'malicious', 'software', 'phishing', 'email', 'instance', 'much', 'holy', 'grail', 'cyber', 'security', 'think', 'would', 'also', 'stress', 'promotion', 'legitimate', 'material', 'hoax', 'pushed', 'ranked', 'promotion', 'legitimate', 'material', 'remains', 'annasophia', 'harlan', 'thank', 'much'], tags=['transcript_2']),\n",
       " LabeledSentence(words=['guy', 'stephen', 'welcome', 'back', 'another', 'video', 'today', 'talking', 'really', 'serious', 'topic', 'well', 'last', 'day', 'little', 'bit', 'time', 'usual', 'check', 'social', 'medium', 'feed', 'found', 'one', 'post', 'facebook', 'guy', 'claimed', 'g', 'cause', 'coronavirus', 'outbreak', 'wuhan', 'china', 'advanced', 'g', 'lot', 'g', 'station', 'basically', 'comparing', 'symptom', 'rf', 'exposure', 'basically', 'radio', 'frequency', 'exposure', 'symptom', 'corona', 'virus', 'post', 'shared', 'couple', 'thousand', 'time', 'confusing', 'people', 'thought', 'still', 'lot', 'misunderstanding', 'g', 'today', 'video', 'tell', 'truth', 'g', 'health', 'effect', 'guy', 'dig', 'little', 'bit', 'deeper', 'need', 'find', 'g', 'g', 'fifth', 'generation', 'mobile', 'network', 'standard', 'g', 'fifth', 'generation', 'nothing', 'five', 'gigahertz', 'wi', 'fi', 'something', 'lot', 'people', 'mix', 'five', 'gigahertz', 'wi', 'fi', 'basically', 'wi', 'fi', 'operating', 'five', 'gigahertz', 'frequency', 'g', 'go', 'way', 'higher', 'frequency', 'also', 'called', 'millimeter', 'wave', 'talk', 'second', 'talking', 'g', 'need', 'separate', 'two', 'frequency', 'group', 'right', 'sub', 'gigahertz', 'band', 'basically', 'also', 'overlapping', 'little', 'bit', 'frequency', 'used', 'network', 'everything', 'megahertz', 'second', 'frequency', 'group', 'higher', 'also', 'called', 'millimeter', 'wave', 'start', 'gigahertz', 'second', 'frequency', 'group', 'something', 'giga', 'hertz', 'around', 'gerdes', 'actually', 'need', 'higher', 'frequency', 'g', 'well', 'g', 'make', 'speed', 'faster', 'therefore', 'need', 'bigger', 'bandwidth', 'essentially', 'frequency', 'instance', 'let', 'explain', 'megahertz', 'bandwidth', 'transporting', 'megahertz', 'carrier', 'frequency', 'actually', 'get', 'throughput', 'transporting', 'megahertz', 'bandwidth', 'instance', 'gigahertz', 'basically', 'gigahertz', 'carrier', 'frequency', 'really', 'tell', 'anything', 'fruit', 'term', 'speed', 'higher', 'frequency', 'also', 'way', 'higher', 'bandwidth', 'instance', 'g', 'go', 'around', 'megahertz', 'bandwidth', 'g', 'go', 'around', 'megahertz', 'bandwidth', 'mean', 'five', 'time', 'bandwidth', 'g', 'talking', 'bandwidth', 'actually', 'imagine', 'pipe', 'instance', 'imagine', 'pipe', 'g', 'like', 'size', 'g', 'like', 'five', 'time', 'bigger', 'transport', 'much', 'data', 'hundred', 'megahertz', 'bandwidth', 'channel', 'higher', 'frequency', 'used', 'g', 'past', 'need', 'high', 'frequency', 'actually', 'need', 'bandwidth', 'right', 'many', 'connected', 'device', 'iot', 'need', 'bandwidth', 'video', 'remain', 'k', 'k', 'well', 'mean', 'need', 'go', 'higher', 'frequency', 'higher', 'frequency', 'actually', 'nice', 'bandwidth', 'actually', 'put', 'data', 'bad', 'thing', 'also', 'travel', 'far', 'need', 'station', 'actually', 'build', 'network', 'range', 'lower', 'frequency', 'actually', 'much', 'higher', 'get', 'bandwidth', 'term', 'throughput', 'network', 'handset', 'much', 'client', 'network', 'iot', 'device', 'also', 'latency', 'need', 'really', 'low', 'latency', 'thing', 'like', 'autonomous', 'driving', 'car', 'need', 'communicate', 'fast', 'possible', 'network', 'something', 'g', 'also', 'two', 'version', 'g', 'g', 'non', 'stand', 'alone', 'g', 'standalone', 'country', 'right', 'g', 'running', 'g', 'infrastructure', 'easier', 'operator', 'roll', 'also', 'missing', 'full', 'g', 'feature', 'using', 'g', 'fortune', 'fruss', 'truck', 'sure', 'mean', 'g', 'signal', 'weak', 'reason', 'right', 'beginning', 'network', 'sometimes', 'little', 'bit', 'hard', 'get', 'really', 'good', 'g', 'signal', 'switch', 'back', 'oh', 'gee', 'handoff', 'actually', 'introducing', 'latency', 'network', 'latency', 'something', 'want', 'g', 'g', 'ultra', 'low', 'latency', 'five', 'cheese', 'standalone', 'actually', 'get', 'super', 'ultra', 'low', 'latency', 'guy', 'little', 'bit', 'basic', 'understand', 'higher', 'frequency', 'used', 'g', 'network', 'get', 'fruit', 'get', 'bandwidth', 'actually', 'need', 'get', 'speed', 'want', 'talk', 'little', 'bit', 'millimeter', 'wave', 'higher', 'frequency', 'called', 'millimeter', 'wave', 'actually', 'thing', 'people', 'think', 'dangerous', 'g', 'told', 'getting', 'gigahertz', 'may', 'even', 'future', 'everything', 'gigahertz', 'actually', 'categorized', 'millimeter', 'wave', 'frequency', 'people', 'think', 'cause', 'several', 'symptom', 'also', 'used', 'crowd', 'control', 'something', 'actually', 'true', 'fcc', 'actually', 'also', 'declared', 'back', 'august', 'last', 'year', 'g', 'save', 'last', 'day', 'big', 'news', 'icn', 'irp', 'pre', 'long', 'name', 'international', 'commission', 'non', 'ionizing', 'radiation', 'protection', 'based', 'germany', 'also', 'updated', 'guideline', 'new', 'standard', 'old', 'frequency', 'standard', 'sure', 'way', 'lower', 'need', 'data', 'analyzed', 'everything', 'said', 'okay', 'safe', 'certain', 'limit', 'right', 'g', 'really', 'way', 'limit', 'millimeter', 'wave', 'general', 'also', 'used', 'plenty', 'country', 'right', 'said', 'safe', 'really', 'need', 'differentiate', 'type', 'radiation', 'people', 'hear', 'radiation', 'g', 'think', 'chernobyl', 'something', 'like', 'radioactive', 'radiation', 'actually', 'non', 'ionizing', 'radiation', 'ionizing', 'radiation', 'ionizing', 'radiation', 'basically', 'break', 'chemical', 'bond', 'yeah', 'harm', 'body', 'non', 'ionizing', 'radiation', 'harmful', 'body', 'let', 'give', 'example', 'sun', 'ray', 'mostly', 'consists', 'non', 'ionizing', 'radiation', 'also', 'ionizing', 'radiation', 'long', 'ultraviolet', 'ray', 'mostly', 'get', 'absorbed', 'atmosphere', 'also', 'putting', 'protection', 'skin', 'non', 'ionizing', 'radiation', 'actually', 'harmful', 'body', 'yeah', 'g', 'non', 'ionizing', 'radiation', 'also', 'good', 'talk', 'thomas', 'ghia', 'huawei', 'invited', 'huawei', 'g', 'innovation', 'center', 'london', 'month', 'ago', 'something', 'like', 'showcased', 'new', 'g', 'technology', 'also', 'answering', 'lot', 'question', 'health', 'aspect', 'g', 'really', 'guy', 'guy', 'really', 'brilliant', 'know', 'lot', 'g', 'please', 'listen', 'carefully', 'say', 'health', 'aspect', 'g', 'right', 'guy', 'hawawa', 'ch', 'innovation', 'centre', 'thomas', 'gere', 'tell', 'u', 'something', 'today', 'g', 'answer', 'question', 'right', 'thomas', 'could', 'quickly', 'introduce', 'hi', 'thomas', 'gear', 'huawei', 'wireless', 'department', 'supported', 'opening', 'fabulous', 'place', 'london', 'actually', 'wondering', 'know', 'away', 'room', 'today', 'know', 'yeah', 'asked', 'pleasure', 'today', 'share', 'bit', 'exciting', 'know', 'experience', 'opened', 'center', 'london', 'right', 'consumer', 'simple', 'word', 'key', 'benefit', 'g', 'think', 'actually', 'biggest', 'invention', 'made', 'possible', 'due', 'g', 'yeah', 'mean', 'obviously', 'impacting', 'consumer', 'business', 'think', 'first', 'term', 'consumer', 'everybody', 'know', 'think', 'speed', 'example', 'behind', 'u', 'know', 'g', 'g', 'know', 'speed', 'know', 'screen', 'tester', 'showing', 'massive', 'difference', 'obviously', 'two', 'network', 'mean', 'mean', 'obviously', 'know', 'download', 'know', 'movie', 'episode', 'much', 'faster', 'g', 'two', 'day', 'know', 'data', 'hungry', 'world', 'make', 'big', 'difference', 'mean', 'well', 'inside', 'term', 'latency', 'know', 'consumer', 'gaming', 'lot', 'mobile', 'gaming', 'cloud', 'gaming', 'mean', 'know', 'multi', 'user', 'cloud', 'gaming', 'desktop', 'quality', 'mobile', 'actually', 'connect', 'g', 'modem', 'know', 'home', 'tv', 'know', 'desktop', 'quality', 'tv', 'need', 'go', 'expensive', 'pc', 'know', 'game', 'console', 'know', 'know', 'easy', 'switch', 'know', 'happy', 'larry', 'know', 'yes', 'right', 'far', 'g', 'show', 'people', 'already', 'g', 'answered', 'nowadays', 'yeah', 'think', 'starting', 'second', 'phase', 'would', 'sell', 'g', 'handset', 'meaning', 'expensive', 'one', 'know', 'big', 'format', 'people', 'want', 'show', 'could', 'know', 'g', 'know', 'really', 'anything', 'big', 'screen', 'know', 'lower', 'price', 'level', 'mid', 'range', 'handset', 'released', 'released', 'moment', 'term', 'way', 'u', 'good', 'thing', 'handset', 'multi', 'know', 'g', 'band', 'meaning', 'go', 'different', 'network', 'around', 'world', 'might', 'know', 'already', 'compatible', 'type', 'g', 'network', 'think', 'today', 'travel', 'people', 'travel', 'lot', 'quite', 'important', 'think', 'buy', 'g', 'phone', 'check', 'know', 'think', 'important', 'feature', 'check', 'yeah', 'right', 'heard', 'actually', 'g', 'phone', 'quite', 'big', 'like', 'may', 'g', 'um', 'probably', 'g', 'chip', 'work', 'right', 'dissipate', 'lot', 'heat', 'true', 'think', 'might', 'true', 'beginning', 'chipset', 'actually', 'improved', 'time', 'mate', 'pro', 'dice', 'released', 'market', 'proving', 'smaller', 'form', 'factor', 'know', 'heat', 'comparable', 'g', 'phone', 'know', 'lot', 'heat', 'dissipation', 'know', 'technology', 'know', 'worked', 'know', 'know', 'r', 'building', 'g', 'network', 'also', 'solving', 'problem', 'think', 'solved', 'almost', 'already', 'particular', 'okay', 'question', 'received', 'g', 'latency', 'lower', 'actually', 'whole', 'processing', 'thing', 'five', 'cheese', 'used', 'done', 'cloud', 'actually', 'know', 'whole', 'infrastructure', 'network', 'g', 'enabling', 'know', 'better', 'antenna', 'system', 'also', 'call', 'know', 'moment', 'g', 'know', 'base', 'network', 'network', 'upgrade', 'actually', 'enabling', 'lot', 'lower', 'latency', 'already', 'latency', 'lower', 'maybe', 'g', 'millisecond', 'noticeable', 'background', 'vr', 'last', 'year', 'know', 'latency', 'important', 'want', 'millisecond', 'vr', 'headset', 'know', 'see', 'difference', 'know', 'turn', 'head', 'start', 'get', 'know', 'sake', 'motion', 'sickness', 'important', 'actually', 'get', 'sub', 'sub', 'know', 'latency', 'already', 'two', 'day', 'g', 'version', 'network', 'think', 'big', 'deal', 'yeah', 'people', 'talk', 'g', 'already', 'think', 'radiation', 'dangerous', 'g', 'dangerous', 'yeah', 'mean', 'funny', 'subject', 'obviously', 'know', 'seen', 'lot', 'know', 'naysayer', 'distributing', 'leaflet', 'know', 'train', 'etc', 'think', 'people', 'every', 'time', 'technology', 'wave', 'know', 'something', 'talk', 'become', 'know', 'kind', 'activist', 'actually', 'lot', 'test', 'done', 'lot', 'neutral', 'know', 'organization', 'know', 'g', 'le', 'radiation', 'know', 'microwave', 'phone', 'know', 'actually', 'g', 'consuming', 'know', 'le', 'energy', 'term', 'antenna', 'g', 'antenna', 'know', 'would', 'health', 'risk', 'true', 'know', 'lot', 'evidence', 'around', 'know', 'look', 'gsma', 'website', 'know', 'one', 'key', 'asian', 'report', 'key', 'know', 'organization', 'coming', 'soon', 'think', 'people', 'need', 'actually', 'look', 'mobile', 'operator', 'website', 'well', 'actually', 'know', 'producing', 'know', 'research', 'people', 'see', 'actually', 'know', 'better', 'forgery', 'know', 'issue', 'far', 'concerned', 'yeah', 'graphic', 'seen', 'say', 'basically', 'g', 'radiation', 'called', 'radiation', 'meter', 'like', 'low', 'radiation', 'right', 'next', 'antenna', 'probably', 'high', 'ton', 'make', 'sure', 'affecting', 'people', 'near', 'regulation', 'place', 'antenna', 'something', 'like', 'g', 'need', 'lot', 'antenna', 'yeah', 'mean', 'lot', 'existing', 'regulation', 'around', 'antenna', 'know', 'always', 'case', 'reason', 'see', 'top', 'high', 'mast', 'top', 'building', 'engineer', 'know', 'allowed', 'actually', 'carry', 'repair', 'maintenance', 'switch', 'base', 'station', 'first', 'basically', 'antenna', 'dangerous', 'probably', 'within', 'one', 'two', 'three', 'meter', 'depending', 'know', 'power', 'know', 'actually', 'set', 'know', 'even', 'know', 'tv', 'program', 'covering', 'see', 'radiation', 'really', 'standing', 'front', 'industrial', 'know', 'level', 'antenna', 'know', 'really', 'know', 'nothing', 'consumer', 'people', 'like', 'walking', 'industry', 'antenna', 'would', 'mean', 'antenna', 'well', 'within', 'health', 'safety', 'regulation', 'put', 'well', 'know', 'top', 'building', 'structure', 'safe', 'know', 'everyone', 'right', 'regarding', 'safety', 'country', 'pretty', 'far', 'g', 'network', 'like', 'korea', 'instance', 'think', 'europe', 'level', 'yeah', 'guess', 'mean', 'end', 'end', 'know', 'g', 'network', 'get', 'gigabit', 'speed', 'yeah', 'obviously', 'older', 'infrastructure', 'know', 'country', 'dad', 'telecom', 'infrastructure', 'beginning', 'thing', 'upgrade', 'also', 'mobile', 'operator', 'think', 'already', 'happening', 'demand', 'specific', 'use', 'case', 'stadium', 'also', 'know', 'country', 'like', 'uk', 'need', 'actually', 'provide', 'know', 'fibre', 'speed', 'whole', 'nation', 'one', 'government', 'commitment', 'fibre', 'go', 'wireless', 'want', 'actually', 'know', 'reach', 'everybody', 'know', 'rural', 'area', 'well', 'dense', 'area', 'think', 'force', 'nature', 'happen', 'needed', 'know', 'guideline', 'target', 'know', 'government', 'alright', 'guy', 'thomas', 'big', 'thanks', 'information', 'interested', 'information', 'leave', 'link', 'scientific', 'resource', 'research', 'description', 'make', 'sure', 'check', 'see', 'believe', 'everything', 'internet', 'yeah', 'thank', 'guy', 'finally', 'answer', 'question', 'g', 'cause', 'coronavirus', 'anything', 'else', 'g', 'cause', 'anything', 'point', 'view', 'point', 'view', 'authority', 'commission', 'non', 'ionizing', 'radiation', 'protection', 'really', 'scientist', 'actually', 'causing', 'anything', 'harmful', 'really', 'crazy', 'misinformation', 'spread', 'internet', 'luckily', 'post', 'right', 'tagged', 'fake', 'news', 'facebook', 'well', 'people', 'actually', 'believe', 'shared', 'got', 'thousand', 'like', 'absolutely', 'crazy', 'please', 'guy', 'always', 'read', 'something', 'like', 'internet', 'research', 'talk', 'people', 'know', 'technology', 'always', 'new', 'technology', 'people', 'know', 'probably', 'scared', 'fully', 'understand', 'start', 'google', 'google', 'something', 'never', 'especially', 'sick', 'something', 'like', 'always', 'find', 'website', 'saying', 'entered', 'google', 'purpose', 'google', 'searching', 'something', 'find', 'something', 'exactly', 'googling', 'g', 'cause', 'cancer', 'find', 'website', 'saying', 'g', 'cause', 'cancer', 'already', 'information', 'bubble', 'yeah', 'go', 'crazy', 'actually', 'much', 'research', 'many', 'event', 'company', 'also', 'scientist', 'explaining', 'everything', 'also', 'austria', 'trip', 'magenta', 'basically', 'bought', 'emf', 'meter', 'electromagnetic', 'field', 'testing', 'near', 'g', 'station', 'actually', 'le', 'radiation', 'say', 'like', 'home', 'next', 'router', 'five', 'five', 'cheese', 'station', 'high', 'air', 'know', 'signal', 'travel', 'air', 'actually', 'loses', 'strength', 'every', 'distance', 'traveled', 'get', 'weaker', 'weaker', 'weaker', 'actually', 'radiation', 'directly', 'smartphone', 'pocket', 'putting', 'smartphone', 'directly', 'head', 'causing', 'radiation', 'coming', 'head', 'g', 'station', 'actually', 'g', 'station', 'mean', 'better', 'signal', 'wall', 'onto', 'smartphone', 'signal', 'smartphone', 'better', 'smartphone', 'need', 'transmit', 'much', 'power', 'mean', 'also', 'le', 'radiation', 'smartphone', 'need', 'transmit', 'much', 'power', 'get', 'better', 'signal', 'overall', 'g', 'point', 'view', 'le', 'radiation', 'right', 'sure', 'higher', 'frequency', 'well', 'studied', 'yeah', 'point', 'view', 'honest', 'want', 'say', 'scientist', 'something', 'really', 'think', 'safe', 'also', 'many', 'authority', 'right', 'tested', 'checked', 'result', 'increase', 'term', 'cancer', 'rate', 'pretty', 'pretty', 'safe', 'alrighty', 'guy', 'sorry', 'long', 'video', 'think', 'important', 'talk', 'topic', 'much', 'going', 'head', 'really', 'crazy', 'structure', 'thought', 'one', 'important', 'message', 'hard', 'time', 'right', 'first', 'stay', 'safe', 'stay', 'home', 'work', 'home', 'wash', 'hand', 'try', 'le', 'contact', 'people', 'important', 'message', 'right', 'especially', 'also', 'g', 'stop', 'believing', 'fake', 'news', 'internet', 'read', 'news', 'verified', 'source', 'stop', 'googling', 'negative', 'thing', 'get', 'negative', 'filter', 'bubble', 'basically', 'also', 'trump', 'president', 'right', 'power', 'social', 'medium', 'fake', 'news', 'spread', 'really', 'fast', 'stick', 'source', 'authority', 'scientist', 'something', 'like', 'yeah', 'important', 'thing', 'panic', 'stay', 'cool', 'really', 'hope', 'guy', 'enjoyed', 'video', 'well', 'want', 'see', 'topic', 'topic', 'future', 'please', 'make', 'sure', 'subscribe', 'also', 'big', 'thanks', 'huawei', 'inviting', 'trip', 'g', 'innovation', 'experience', 'center', 'also', 'big', 'thanks', 'faraway', 'supporting', 'hospital', 'wuhan', 'really', 'sure', 'guy', 'written', 'news', 'actually', 'supplied', 'g', 'station', 'network', 'keep', 'network', 'hard', 'time', 'right', 'think', 'really', 'cool', 'also', 'gave', 'away', 'free', 'cloud', 'storage', 'company', 'work', 'home', 'something', 'like', 'think', 'right', 'age', 'really', 'important', 'working', 'communication', 'always', 'guy', 'steven', 'tech', 'magnet', 'catch', 'next', 'one', 'nice', 'day', 'bye'], tags=['transcript_3']),\n",
       " LabeledSentence(words=['hi', 'guy', 'daniel', 'alexander', 'cannon', 'logic', 'authority', 'somewhat', 'emergency', 'broadcast', 'joke', 'theory', 'shutdown', 'lockdown', 'going', 'country', 'right', 'closing', 'school', 'something', 'would', 'going', 'already', 'thinking', 'probably', 'want', 'say', 'lead', 'anyone', 'number', 'people', 'contact', 'one', 'specifically', 'extremely', 'credible', 'want', 'read', 'interaction', 'okay', 'well', 'let', 'read', 'okay', 'contacted', 'initially', 'saying', 'hey', 'daniel', 'shut', 'channel', 'please', 'know', 'let', 'text', 'new', 'channel', 'later', 'date', 'put', 'video', 'last', 'night', 'person', 'text', 'said', 'work', 'local', 'school', 'board', 'ge', 'getting', 'lot', 'bad', 'press', 'lately', 'know', 'u', 'department', 'education', 'wanting', 'roll', 'g', 'network', 'many', 'district', 'school', 'unfortunately', 'parent', 'whole', 'would', 'try', 'stop', 'implementation', 'u', 'department', 'education', 'decided', 'close', 'school', 'dear', 'pandemic', 'two', 'reason', 'one', 'make', 'parent', 'think', 'child', 'safety', 'virus', 'two', 'install', 'g', 'network', 'many', 'district', 'school', 'g', 'company', 'instructed', 'use', 'guise', 'disinfecting', 'company', 'strict', 'order', 'anyone', 'asks', 'cleaning', 'company', 'two', 'dissing', 'fact', 'school', 'tell', 'anyone', 'installing', 'g', 'contractor', 'must', 'sign', 'nondisclosure', 'agreement', 'shit', 'getting', 'real', 'daniel', 'please', 'help', 'course', 'responded', 'okay', 'started', 'digging', 'show', 'little', 'bit', 'minute', 'conversation', 'continued', 'person', 'said', 'critical', 'information', 'classified', 'position', 'school', 'board', 'unfortunately', 'think', 'given', 'give', 'one', 'know', 'get', 'one', 'three', 'people', 'could', 'leaked', 'thanks', 'daniel', 'wrote', 'back', 'talking', 'worldwide', 'situation', 'nothing', 'going', 'school', 'district', 'however', 'whatever', 'school', 'district', 'likely', 'across', 'nation', 'need', 'mention', 'name', 'county', 'name', 'state', 'need', 'truth', 'important', 'said', 'plus', 'anything', 'know', 'level', 'likely', 'known', 'hundred', 'thousand', 'asleep', 'may', 'maybe', 'know', 'importance', 'matter', 'responded', 'yes', 'text', 'classified', 'information', 'smart', 'man', 'district', 'must', 'nationwide', 'also', 'information', 'choose', 'divulge', 'like', 'name', 'contractor', 'date', 'time', 'installs', 'location', 'etc', 'tell', 'nationwide', 'figure', 'access', 'u', 'department', 'education', 'web', 'server', 'district', 'crazy', 'reason', 'login', 'allows', 'venture', 'district', 'local', 'district', 'national', 'program', 'believe', 'many', 'school', 'going', 'roll', 'implement', 'five', 'implement', 'g', 'network', 'short', 'period', 'time', 'yes', 'truth', 'done', 'done', 'mid', 'april', 'hundred', 'thousand', 'though', 'may', 'know', 'may', 'know', 'beat', 'em', 'asleep', 'notified', 'g', 'safe', 'gotten', 'bad', 'press', 'conspiracy', 'theorist', 'therefore', 'ask', 'refrain', 'asking', 'acknowledging', 'public', 'upgrade', 'need', 'parent', 'false', 'fear', 'g', 'time', 'corona', 'virus', 'pandemic', 'say', 'say', 'verbatim', 'close', 'memory', 'let', 'read', 'rest', 'talk', 'little', 'bit', 'say', 'yes', 'please', 'mention', 'district', 'also', 'one', 'state', 'would', 'appreciate', 'anonymity', 'way', 'thanks', 'daniel', 'someone', 'position', 'people', 'within', 'state', 'access', 'knowledge', 'g', 'rollout', 'school', 'district', 'guise', 'cleaning', 'school', 'like', 'thought', 'confirmed', 'okay', 'shut', 'lockdown', 'go', 'place', 'school', 'installing', 'g', 'elementary', 'school', 'school', 'high', 'school', 'child', 'going', 'exposed', 'eight', 'hour', 'day', 'gigahertz', 'millimeter', 'wave', 'radiation', 'going', 'devastate', 'youth', 'country', 'world', 'something', 'going', 'worldwide', 'think', 'good', 'thing', 'sneaking', 'back', 'door', 'pretending', 'cleaning', 'crew', 'told', 'say', 'anything', 'okay', 'know', 'bad', 'simple', 'obvious', 'got', 'stopped', 'justice', 'forget', 'turn', 'sometimes', 'got', 'stopped', 'many', 'within', 'sound', 'voice', 'ability', 'something', 'many', 'ability', 'ability', 'spread', 'video', 'spread', 'video', 'spread', 'information', 'something', 'stop', 'going', 'try', 'shove', 'throat', 'going', 'child', 'see', 'told', 'felt', 'like', 'many', 'reason', 'feel', 'way', 'feeling', 'bet', 'talk', 'feeling', 'okay', 'based', 'knowledge', 'okay', 'gon', 'na', 'ramp', 'making', 'like', 'looking', 'really', 'bad', 'gon', 'na', 'install', 'school', 'hospital', 'everywhere', 'okay', 'got', 'planned', 'got', 'white', 'van', 'white', 'truck', 'stuff', 'ready', 'go', 'packed', 'full', 'equipment', 'next', 'day', 'gon', 'na', 'shove', 'throat', 'sitting', 'home', 'gon', 'na', 'say', 'okay', 'everything', 'right', 'guy', 'come', 'safe', 'like', 'whoo', 'hon', 'got', 'five', 'gene', 'know', 'back', 'december', 'got', 'sick', 'thank', 'god', 'g', 'millimeter', 'gigahertz', 'millimeter', 'wave', 'g', 'see', 'december', 'st', 'china', 'law', 'said', 'immunization', 'december', 'st', 'country', 'declared', 'wuhan', 'fully', 'installed', 'st', 'december', 'g', 'gigahertz', 'wave', 'g', 'come', 'thirty', 'sixty', 'day', 'going', 'boat', 'wuhan', 'see', 'g', 'coverage', 'right', 'sitting', 'home', 'putting', 'school', 'putting', 'hospital', 'putting', 'office', 'building', 'especially', 'government', 'one', 'putting', 'street', 'everywhere', 'guarantee', 'huge', 'crew', 'huge', 'crew', 'people', 'clueless', 'think', 'something', 'good', 'gon', 'na', 'help', 'fight', 'virus', 'installing', 'stuff', 'hour', 'day', 'seven', 'day', 'week', 'happening', 'yet', 'maybe', 'coming', 'soon', 'lockdown', 'coming', 'gon', 'na', 'lock', 'entire', 'united', 'state', 'covered', 'closed', 'border', 'already', 'know', 'fact', 'canadian', 'border', 'closed', 'man', 'life', 'literally', 'spitting', 'distance', 'border', 'closed', 'one', 'coming', 'one', 'going', 'last', 'message', 'person', 'sent', 'said', 'please', 'understand', 'misunderstand', 'daniel', 'speculating', 'first', 'hand', 'knowledge', 'fact', 'see', 'conspiracy', 'theory', 'conspiracy', 'coming', 'coming', 'child', 'coming', 'something', 'deserve', 'get', 'see', 'something', 'stop', 'deserve', 'see', 'moral', 'place', 'stand', 'smart', 'enough', 'willing', 'take', 'risk', 'anything', 'stop', 'deserve', 'moral', 'card', 'stand', 'done', 'part', 'beautiful', 'lady', 'done', 'part', 'guy', 'got', 'part', 'know', 'let', 'share', 'something', 'else', 'person', 'say', 'daniel', 'live', 'rosebud', 'suez', 'reservation', 'south', 'dakota', 'friend', 'mine', 'learned', 'last', 'week', 'thursday', 'friday', 'fema', 'unloaded', 'semi', 'truck', 'plastic', 'coffin', 'would', 'imagine', 'respecting', 'preparing', 'said', 'incinerator', 'coffin', 'likely', 'look', 'across', 'youtube', 'facebook', 'video', 'truck', 'loaded', 'coffin', 'find', 'find', 'need', 'guy', 'scour', 'internet', 'well', 'guy', 'lot', 'power', 'research', 'guy', 'find', 'tell', 'old', 'video', 'talking', 'stuff', 'new', 'last', 'day', 'let', 'say', 'let', 'say', 'since', 'st', 'january', 'ok', 'find', 'stuff', 'people', 'put', 'caching', 'photo', 'video', 'coffin', 'move', 'need', 'see', 'reason', 'know', 'thinking', 'reason', 'thinking', 'virus', 'exist', 'well', 'might', 'tell', 'something', 'exist', 'installed', 'right', 'get', 'matter', 'virus', 'real', 'killer', 'g', 'coming', 'installed', 'behind', 'back', 'right', 'fixing', 'go', 'full', 'blast', 'school', 'everywhere', 'else', 'locked', 'home', 'want', 'everybody', 'home', 'want', 'nobody', 'see', 'going', 'gon', 'na', 'rule', 'like', 'permission', 'leave', 'house', 'think', 'happen', 'watch', 'mark', 'word', 'gon', 'na', 'want', 'know', 'going', 'path', 'taking', 'making', 'sure', 'going', 'seeing', 'something', 'gon', 'na', 'everything', 'controlled', 'area', 'work', 'gon', 'na', 'cop', 'one', 'end', 'cop', 'blocking', 'road', 'nobody', 'go', 'think', 'shutting', 'world', 'man', 'shut', 'world', 'block', 'school', 'see', 'need', 'wake', 'need', 'wake', 'person', 'said', 'said', 'daniel', 'wife', 'europe', 'hearing', 'three', 'friend', 'asked', 'check', 'coffin', 'information', 'gon', 'na', 'check', 'okay', 'person', 'name', 'greta', 'florida', 'say', 'know', 'one', 'case', 'warren', 'ohio', 'something', 'recovering', 'said', 'know', 'person', 'personally', 'like', 'phone', 'number', 'could', 'give', 'call', 'want', 'said', 'covered', 'positive', 'said', 'family', 'member', 'video', 'facebook', 'page', 'hospital', 'bed', 'yes', 'positive', 'okay', 'day', 'ago', 'ask', 'people', 'let', 'know', 'people', 'knew', 'know', 'personally', 'positive', 'cova', 'sick', 'sick', 'died', 'okay', 'tania', 'southern', 'california', 'contact', 'said', 'hi', 'daniel', 'thank', 'courage', 'stand', 'watchman', 'answer', 'question', 'southern', 'california', 'orange', 'county', 'border', 'la', 'louie', 'border', 'motor', 'la', 'shelf', 'empty', 'costco', 'sold', 'paper', 'product', 'water', 'rice', 'could', 'go', 'hit', 'target', 'walmart', 'food', 'store', 'illness', 'stress', 'strongly', 'enough', 'quite', 'real', 'extremely', 'sensitive', 'frequency', 'foggy', 'yes', 'g', 'toxic', 'certainly', 'would', 'make', 'situation', 'worse', 'cause', 'said', 'virus', 'husband', 'joe', 'international', 'traveler', 'three', 'homeschooled', 'kid', 'unvaccinated', 'organic', 'used', 'alternative', 'medicine', 'january', 'th', 'joe', 'returned', 'conference', 'la', 'vega', 'bos', 'attended', 'conference', 'sick', 'return', 'flight', 'spreading', 'spending', 'week', 'brazil', 'everyone', 'company', 'attended', 'conference', 'got', 'sick', 'week', 'later', 'week', 'seventeenth', 'youngest', 'got', 'sick', 'three', 'week', 'later', 'oldest', 'son', 'got', 'sick', 'day', 'later', 'daughter', 'got', 'sick', 'symptom', 'three', 'phase', 'first', 'phase', 'mild', 'cold', 'like', 'headache', 'behind', 'eye', 'eye', 'discharge', 'mild', 'sore', 'throat', 'dry', 'cough', 'seem', 'get', 'better', 'second', 'week', 'later', 'really', 'tired', 'achy', 'fever', 'key', 'fever', 'mild', 'dry', 'cough', 'kid', 'bringing', 'alcohol', 'rub', 'degree', 'temperature', 'went', 'fever', 'start', 'fever', 'break', 'start', 'feel', 'better', 'energy', 'slowly', 'return', 'third', 'week', 'later', 'tightness', 'top', 'chest', 'breathing', 'labored', 'fever', 'pneumonia', 'like', 'husband', 'oldest', 'youngest', 'recovered', 'day', 'two', 'month', 'pneumonia', 'mild', 'worse', 'obviously', 'california', 'exploding', 'soon', 'heard', 'cough', 'shopper', 'week', 'one', 'joe', 'co', 'worker', 'passed', 'grandma', 'died', 'pneumonia', 'two', 'week', 'ago', 'joe', 'attended', 'aunt', 'funeral', 'almost', 'three', 'week', 'ago', 'arkansas', 'died', 'pneumonia', 'two', 'week', 'returning', 'cruise', 'ship', 'held', 'service', 'three', 'day', 'death', 'since', 'still', 'testing', 'think', 'number', 'would', 'showing', 'pneumonia', 'death', 'one', 'helping', 'best', 'last', 'stage', 'lip', 'osorno', 'purse', 'mille', 'like', 'see', 'person', 'see', 'nac', 'whatever', 'sure', 'pre', 'precursor', 'blue', 'tone', 'blue', 'blue', 'python', 'something', 'like', 'read', 'sitting', 'salt', 'salt', 'cave', 'room', 'sure', 'mean', 'task', 'also', 'listening', 'got', 'referring', 'certain', 'frequency', 'sound', 'refers', 'dr', 'paul', 'cottrell', 'recommends', 'go', 'recommended', 'recommendation', 'work', 'well', 'opinion', 'dr', 'paul', 'cottrell', 'controlled', 'controlled', 'shield', 'like', 'british', 'nurse', 'doctor', 'older', 'man', 'sits', 'glass', 'read', 'stuff', 'every', 'day', 'asleep', 'sheep', 'either', 'one', 'two', 'thing', 'shield', 'nbc', 'news', 'interviewed', 'either', 'shield', 'sleep', 'sheep', 'trying', 'help', 'understand', 'dynamic', 'evil', 'going', 'okay', 'time', 'time', 'child', 'shown', 'image', 'thing', 'come', 'planet', 'unimaginable', 'believe', 'entering', 'time', 'unfortunately', 'agree', 'would', 'eye', 'see', 'walt', 'firmly', 'spirit', 'see', 'harvest', 'soul', 'love', 'tanya', 'sent', 'picture', 'trader', 'joe', 'bunch', 'empty', 'shell', 'text', 'back', 'said', 'many', 'people', 'know', 'personally', 'one', 'pneumonia', 'two', 'died', 'last', 'sixty', 'day', 'text', 'back', 'said', 'death', 'two', 'hospital', 'one', 'person', 'one', 'home', 'five', 'pneumonia', 'okay', 'two', 'died', 'also', 'southern', 'cow', 'except', 'one', 'arizona', 'believe', 'callie', 'getting', 'ready', 'go', 'lockdown', 'believe', 'right', 'okay', 'let', 'look', 'back', 'second', 'hang', 'say', 'people', 'thinking', 'kind', 'way', 'thinking', 'way', 'okay', 'well', 'first', 'hand', 'account', 'guy', 'okay', 'believe', 'taking', 'opportunity', 'go', 'school', 'okay', 'school', 'g', 'push', 'beginning', 'summer', 'gon', 'na', 'say', 'well', 'thing', 'better', 'everybody', 'go', 'back', 'work', 'everybody', 'go', 'back', 'school', 'everybody', 'go', 'back', 'normal', 'life', 'gon', 'na', 'make', 'america', 'great', 'gon', 'na', 'hit', 'time', 'going', 'reinforced', 'five', 'g', 'sixty', 'millimeter', 'gigahertz', 'millimeter', 'wave', 'band', 'frequency', 'going', 'separate', 'blood', 'ability', 'hang', 'oxygen', 'gon', 'na', 'see', 'kind', 'thing', 'happened', 'wuhan', 'happened', 'spanish', 'flu', 'history', 'stop', 'make', 'something', 'happen', 'best', 'make', 'something', 'happen', 'going', 'end', 'lot', 'people', 'blood', 'blood', 'gon', 'na', 'hand'], tags=['transcript_4']),\n",
       " LabeledSentence(words=['five', 'technology', 'begin', 'get', 'implemented', 'around', 'world', 'lot', 'confusion', 'concern', 'work', 'even', 'safe', 'today', 'gon', 'na', 'go', 'aspect', 'five', 'g', 'friend', 'tech', 'expert', 'mkbhd', 'gon', 'na', 'explain', 'people', 'excited', 'technology', 'gon', 'na', 'take', 'science', 'angle', 'actually', 'work', 'body', 'importantly', 'science', 'say', 'whether', 'safe', 'looked', 'hundred', 'scientific', 'paper', 'journal', 'order', 'decipher', 'truth', 'five', 'yes', 'jumping', 'conspiracy', 'theory', 'claim', 'stick', 'around', 'end', 'video', 'cause', 'pretty', 'wild', 'first', 'gon', 'na', 'throw', 'friend', 'mkbhd', 'tell', 'u', 'going', 'five', 'tech', 'right', 'hey', 'guy', 'mkbhd', 'five', 'technology', 'fifth', 'generation', 'data', 'network', 'getting', 'lot', 'hype', 'talked', 'lot', 'slowly', 'rolled', 'past', 'year', 'two', 'getting', 'insane', 'speed', 'phone', 'wavelength', 'used', 'five', 'technology', 'split', 'three', 'different', 'section', 'low', 'band', 'five', 'g', 'frequency', 'one', 'gigahertz', 'call', 'mid', 'band', 'five', 'g', 'slight', 'faster', 'travel', 'shorter', 'distance', 'millimeter', 'wave', 'talked', 'give', 'fastest', 'speed', 'us', 'highest', 'frequency', 'travel', 'shortest', 'distance', 'five', 'talking', 'download', 'speed', 'anywhere', 'megabyte', 'per', 'second', 'way', 'crazy', 'millimeter', 'wave', 'speed', 'might', 'seen', 'like', 'two', 'gigabyte', 'per', 'second', 'insane', 'mean', 'talking', 'like', 'whole', 'tv', 'show', 'season', 'downloads', 'second', 'download', 'speed', 'nice', 'five', 'tech', 'useful', 'far', 'phone', 'high', 'end', 'speed', 'low', 'latency', 'future', 'essential', 'thing', 'like', 'fleet', 'driverless', 'car', 'driving', 'swarm', 'talking', 'communicating', 'never', 'crash', 'way', 'thing', 'like', 'robot', 'surgeon', 'two', 'different', 'state', 'surgery', 'performed', 'remotely', 'real', 'time', 'chance', 'use', 'early', 'five', 'g', 'millimeter', 'wave', 'really', 'impressive', 'could', 'tell', 'long', 'way', 'go', 'used', 'rolled', 'world', 'starter', 'travel', 'far', 'easily', 'blocked', 'obstacle', 'stuff', 'talked', 'video', 'would', 'take', 'lot', 'node', 'lot', 'antenna', 'cover', 'small', 'area', 'like', 'town', 'let', 'alone', 'country', 'entire', 'globe', 'would', 'expensive', 'time', 'consuming', 'even', 'low', 'mid', 'band', 'five', 'still', 'impressive', 'term', 'improvement', 'speed', 'lot', 'going', 'pretty', 'exciting', 'future', 'five', 'say', 'come', 'lot', 'fear', 'concern', 'potential', 'effect', 'new', 'frequency', 'biology', 'health', 'throw', 'back', 'greg', 'mitch', 'talk', 'science', 'five', 'work', 'order', 'fully', 'understand', 'five', 'actually', 'learn', 'one', 'favorite', 'thing', 'electromagnetic', 'spectrum', 'spectrum', 'radiation', 'yes', 'talking', 'today', 'radiation', 'sound', 'scary', 'important', 'know', 'radiation', 'transmission', 'energy', 'wave', 'particle', 'left', 'spectrum', 'really', 'long', 'wavelength', 'long', 'thousand', 'kilometer', 'move', 'right', 'get', 'shorter', 'shorter', 'even', 'fraction', 'size', 'atomic', 'nucleus', 'wavelength', 'size', 'measured', 'peak', 'peak', 'trough', 'trough', 'basically', 'distance', 'wave', 'shape', 'repeat', 'size', 'literal', 'tattoo', 'arm', 'yes', 'love', 'electromagnetic', 'spectrum', 'wavelength', 'become', 'shorter', 'shorter', 'higher', 'frequency', 'energy', 'frequency', 'describes', 'number', 'wave', 'pas', 'fixed', 'place', 'given', 'amount', 'time', 'usually', 'measured', 'hertz', 'set', 'low', 'frequency', 'fit', 'le', 'wavelength', 'high', 'frequency', 'take', 'gamma', 'ray', 'example', 'power', 'minus', 'meter', 'meter', 'hope', 'got', 'right', 'amount', 'zero', 'generated', 'radioactive', 'atom', 'nuclear', 'explosion', 'gamma', 'ray', 'along', 'x', 'ray', 'higher', 'energy', 'uv', 'radiation', 'damage', 'dna', 'destroy', 'cell', 'also', 'known', 'ionizing', 'yeah', 'scary', 'move', 'back', 'left', 'wavelength', 'get', 'longer', 'le', 'le', 'energy', 'longer', 'ionizing', 'part', 'spectrum', 'wavelength', 'size', 'cell', 'eye', 'evolved', 'see', 'otherwise', 'known', 'visible', 'light', 'every', 'single', 'wavelength', 'eye', 'pick', 'fall', 'within', 'nanometer', 'keep', 'moving', 'left', 'go', 'microwave', 'radio', 'wave', 'also', 'called', 'radio', 'frequency', 'radiation', 'low', 'energy', 'low', 'frequency', 'radiation', 'used', 'technology', 'like', 'radio', 'since', 'late', 'first', 'generation', 'cellular', 'technology', 'one', 'began', 'next', 'chart', 'nasa', 'ever', 'heard', 'famous', 'break', 'generation', 'cellular', 'technology', 'frequency', 'one', 'cellular', 'attack', 'talking', 'used', 'megahertz', 'aka', 'uhf', 'ultra', 'high', 'frequency', 'wave', 'two', 'using', 'around', 'megahertz', 'ultra', 'high', 'frequency', 'wave', 'three', 'allocated', 'frequency', 'megahertz', 'way', 'three', 'gigahertz', 'spectrum', 'known', 'super', 'high', 'frequency', 'four', 'allocated', 'similar', 'frequency', 'three', 'taking', 'advantage', 'higher', 'frequency', 'take', 'u', 'five', 'g', 'allocated', 'megahertz', 'high', 'gigahertz', 'also', 'using', 'super', 'high', 'frequency', 'section', 'first', 'time', 'cellular', 'network', 'technology', 'moved', 'extra', 'high', 'frequency', 'section', 'millimeter', 'wavelength', 'technology', 'leaving', 'radio', 'wave', 'section', 'graph', 'chart', 'saw', 'earlier', 'section', 'microwave', 'course', 'none', 'word', 'help', 'make', 'sound', 'radiation', 'super', 'high', 'frequency', 'extra', 'high', 'frequency', 'microwave', 'thankfully', 'electromagnetic', 'spectrum', 'regulated', 'keep', 'u', 'healthy', 'important', 'regulating', 'body', 'international', 'commission', 'non', 'ionizing', 'radiation', 'protection', 'essentially', 'conglomeration', 'epidemiologist', 'biologist', 'physicist', 'people', 'understand', 'technology', 'deeply', 'take', 'date', 'science', 'make', 'sure', 'understand', 'regulate', 'radiation', 'u', 'also', 'important', 'note', 'regulating', 'body', 'connected', 'one', 'government', 'country', 'commercial', 'corporation', 'lead', 'big', 'question', 'five', 'wave', 'affect', 'u', 'know', 'five', 'frequency', 'ionizing', 'radiation', 'worried', 'impacting', 'body', 'way', 'decade', 'research', 'health', 'effect', 'icnirp', 'found', 'substantiated', 'effect', 'radio', 'frequency', 'exposure', 'heating', 'exposed', 'tissue', 'wavelength', 'cause', 'vibration', 'charged', 'polar', 'molecule', 'inside', 'u', 'creates', 'friction', 'thus', 'heat', 'higher', 'frequency', 'lower', 'penetrative', 'depth', 'body', 'might', 'seem', 'little', 'unnerving', 'think', 'fair', 'concern', 'technically', 'thermal', 'threshold', 'pas', 'cause', 'adverse', 'health', 'effect', 'u', 'regulating', 'body', 'make', 'sure', 'exposure', 'never', 'go', 'threshold', 'fact', 'acute', 'long', 'term', 'effect', 'radio', 'frequency', 'exposure', 'thermal', 'threshold', 'studied', 'extensively', 'without', 'demonstrating', 'adverse', 'health', 'effect', 'research', 'even', 'done', 'headache', 'sleep', 'quality', 'cognitive', 'function', 'etc', 'shown', 'issue', 'one', 'thing', 'found', 'small', 'effect', 'brain', 'activity', 'measured', 'eeg', 'biological', 'implication', 'mean', 'pretty', 'small', 'actually', 'seen', 'negative', 'effect', 'associated', 'brain', 'activity', 'people', 'say', 'five', 'cause', 'cancer', 'study', 'often', 'get', 'quoted', 'one', 'lab', 'rat', 'mouse', 'exposed', 'radio', 'frequency', 'energy', 'used', 'cell', 'phone', 'nine', 'hour', 'day', 'starting', 'birth', 'two', 'year', 'found', 'increased', 'risk', 'type', 'tumor', 'male', 'rat', 'male', 'rat', 'exposed', 'radio', 'frequency', 'radiation', 'actually', 'ended', 'living', 'longer', 'rat', 'female', 'rat', 'mouse', 'experiment', 'increase', 'tumor', 'epidemiological', 'study', 'found', 'small', 'increase', 'brain', 'tumor', 'people', 'heavy', 'user', 'cell', 'phone', 'actually', 'found', 'reporting', 'bias', 'weakness', 'study', 'also', 'important', 'remember', 'study', 'cellphone', 'use', 'actually', 'talking', 'three', 'g', 'four', 'five', 'frequency', 'consensus', 'among', 'scientist', 'five', 'technology', 'cause', 'cancer', 'confusing', 'figure', 'information', 'looking', 'online', 'example', 'even', 'article', 'scientific', 'american', 'would', 'make', 'worried', 'cell', 'phone', 'five', 'could', 'cause', 'cancer', 'even', 'though', 'study', 'corroborated', 'claim', 'opposite', 'study', 'actually', 'say', 'happens', 'lot', 'scientific', 'information', 'get', 'cherry', 'picked', 'mislead', 'people', 'read', 'scientific', 'american', 'week', 'later', 'get', 'prior', 'article', 'information', 'debunked', 'article', 'seemingly', 'scientifically', 'accurate', 'source', 'confusing', 'shade', 'guess', 'scientific', 'american', 'end', 'day', 'come', 'scientist', 'looking', 'large', 'trial', 'large', 'sample', 'size', 'controlling', 'variable', 'one', 'large', 'countrywide', 'study', 'found', 'causal', 'relationship', 'brain', 'tumor', 'cell', 'phone', 'use', 'another', 'really', 'great', 'danish', 'study', 'large', 'study', 'sound', 'like', 'trump', 'right', 'great', 'huge', 'large', 'study', 'laugh', 'also', 'found', 'link', 'okay', 'let', 'talk', 'conspiracy', 'first', 'address', 'elephant', 'room', 'new', 'online', 'theory', 'five', 'cause', 'coronavirus', 'one', 'relatively', 'easy', 'debunk', 'five', 'technology', 'break', 'chemical', 'bond', 'common', 'claim', 'conspiracy', 'theorist', 'use', 'top', 'fact', 'virus', 'visible', 'literally', 'see', 'physically', 'exist', 'study', 'look', 'literal', 'dna', 'ultimately', 'know', 'five', 'cause', 'coronavirus', 'five', 'bad', 'bird', 'study', 'quoted', 'often', 'explain', 'electromagnetic', 'noise', 'five', 'disrupt', 'migration', 'bird', 'researcher', 'actually', 'found', 'longer', 'wavelength', 'like', 'similar', 'radio', 'type', 'wavelength', 'actually', 'affecting', 'migrating', 'bird', 'actually', 'come', 'tried', 'speak', 'openly', 'trying', 'explain', 'research', 'getting', 'cherry', 'picked', 'try', 'say', 'something', 'five', 'never', 'said', 'new', 'british', 'pound', 'note', 'show', 'coronavirus', 'five', 'g', 'conspiracy', 'theory', 'popping', 'stating', 'pound', 'note', 'five', 'tower', 'giving', 'radiation', 'coronavirus', 'actually', 'image', 'margate', 'lighthouse', 'behind', 'new', 'turner', 'contemporary', 'art', 'gallery', 'purple', 'foil', 'patch', 'based', 'staircase', 'tate', 'modern', 'science', 'territory', 'though', 'let', 'get', 'back', 'track', 'interested', 'conspiracy', 'theory', 'science', 'behind', 'work', 'well', 'actually', 'video', 'made', 'link', 'description', 'recap', 'one', 'five', 'technology', 'us', 'wavelength', 'within', 'super', 'high', 'extra', 'high', 'frequency', 'spectrum', 'two', 'fall', 'category', 'non', 'ionizing', 'radiation', 'meaning', 'damage', 'dna', 'destroy', 'cell', 'three', 'five', 'capacity', 'heat', 'exposed', 'tissue', 'due', 'regulation', 'remain', 'threshold', 'known', 'cause', 'damage', 'four', 'current', 'scientific', 'consensus', 'five', 'show', 'adverse', 'impact', 'health', 'like', 'headache', 'sleep', 'cognitive', 'function', 'cancer', 'five', 'five', 'nothing', 'coronavirus', 'newly', 'published', 'guideline', 'regulating', 'five', 'g', 'gon', 'na', 'link', 'description', 'read', 'mean', 'skeptical', 'technological', 'advance', 'mean', 'honestly', 'research', 'made', 'video', 'skeptical', 'think', 'important', 'continue', 'regulate', 'understand', 'technology', 'gon', 'na', 'used', 'around', 'u', 'work', 'end', 'day', 'also', 'need', 'listen', 'science', 'listen', 'scientific', 'consensus', 'order', 'guide', 'knowledge', 'talked', 'five', 'conspiracy', 'theory', 'newest', 'podcast', 'harvard', 'professor', 'study', 'disinformation', 'campaign', 'conspiracy', 'definitely', 'click', 'check', 'fascinating', 'really', 'good', 'way', 'understand', 'conspiracy', 'theory', 'spreading', 'subscribed', 'make', 'sure', 'done', 'right', 'else', 'use', 'subscribe', 'email', 'thread', 'yeah', 'got', 'mailing', 'list', 'yeah', 'year', 'old', 'call', 'email', 'thread', 'laugh', 'otherwise', 'thank', 'watching', 'like', 'subscribe', 'thing', 'like', 'science', 'video', 'see', 'next', 'time', 'mumble', 'okay', 'thanks', 'laugh'], tags=['transcript_5'])]"
      ]
     },
     "execution_count": 147,
     "metadata": {},
     "output_type": "execute_result"
    }
   ],
   "source": [
    "labeled_X[:6]"
   ]
  },
  {
   "cell_type": "code",
   "execution_count": 13,
   "metadata": {},
   "outputs": [
    {
     "name": "stderr",
     "output_type": "stream",
     "text": [
      "100%|██████████| 313/313 [00:00<00:00, 521580.12it/s]\n"
     ]
    }
   ],
   "source": [
    "import gensim\n",
    "\n",
    "model_d2v = gensim.models.Doc2Vec(dm=1, # dm = 1 for ‘distributed memory’ model\n",
    "                                  dm_mean=1, # dm_mean = 1 for using mean of the context word vectors\n",
    "                                  vector_size=200, # no. of desired features\n",
    "                                  window=5, # width of the context window                                  \n",
    "                                  negative=7, # if > 0 then negative sampling will be used\n",
    "                                  min_count=5, # Ignores all words with total frequency lower than 5.                                  \n",
    "                                  workers=32, # no. of cores                                  \n",
    "                                  alpha=0.1, # learning rate                                  \n",
    "                                  seed = 23, # for reproducibility\n",
    "                                 ) \n",
    "\n",
    "model_d2v.build_vocab([i for i in tqdm(labeled_X)])\n",
    "\n",
    "model_d2v.train(labeled_X, total_examples= len(train_sentences), epochs=15)"
   ]
  },
  {
   "cell_type": "markdown",
   "metadata": {},
   "source": [
    "Preparing doc2vec Feature Set"
   ]
  },
  {
   "cell_type": "code",
   "execution_count": 14,
   "metadata": {},
   "outputs": [
    {
     "data": {
      "text/plain": [
       "(313, 200)"
      ]
     },
     "execution_count": 14,
     "metadata": {},
     "output_type": "execute_result"
    }
   ],
   "source": [
    "docvec_arrays = np.zeros((len(train_sentences), 200)) \n",
    "for i in range(len(train_sentences)):\n",
    "    docvec_arrays[i,:] = model_d2v.docvecs[i].reshape((1,200))    \n",
    "\n",
    "docvec_df = pd.DataFrame(docvec_arrays) \n",
    "docvec_df.shape"
   ]
  },
  {
   "cell_type": "markdown",
   "metadata": {},
   "source": [
    "RandomForest"
   ]
  },
  {
   "cell_type": "code",
   "execution_count": 24,
   "metadata": {},
   "outputs": [],
   "source": [
    "from sklearn.metrics import average_precision_score\n",
    "from sklearn.metrics import recall_score\n",
    "precision = []\n",
    "recall = []"
   ]
  },
  {
   "cell_type": "code",
   "execution_count": 25,
   "metadata": {},
   "outputs": [],
   "source": [
    "from sklearn.model_selection import cross_validate\n",
    "from sklearn import datasets\n",
    "from sklearn.ensemble import RandomForestClassifier\n",
    "for i in range(10):\n",
    "    forest = RandomForestClassifier(n_estimators=500,min_samples_split=5)\n",
    "    cv = cross_validate(forest, docvec_df, y, cv=10,scoring = ['precision','recall'])\n",
    "    precision.append(cv['test_precision'].mean())\n",
    "    recall.append(cv['test_recall'].mean())\n",
    "\n"
   ]
  },
  {
   "cell_type": "code",
   "execution_count": 26,
   "metadata": {},
   "outputs": [
    {
     "data": {
      "text/plain": [
       "[0.732587803320562,\n",
       " 0.7337808215658604,\n",
       " 0.7453188728216535,\n",
       " 0.7401096778947167,\n",
       " 0.7405828667994963,\n",
       " 0.7338497309451146,\n",
       " 0.7374235261401557,\n",
       " 0.7356780365331532,\n",
       " 0.7331245843412139,\n",
       " 0.7351666579516968]"
      ]
     },
     "execution_count": 26,
     "metadata": {},
     "output_type": "execute_result"
    }
   ],
   "source": [
    "precision"
   ]
  },
  {
   "cell_type": "code",
   "execution_count": 27,
   "metadata": {},
   "outputs": [
    {
     "data": {
      "text/plain": [
       "[0.985930735930736,\n",
       " 0.9766233766233766,\n",
       " 0.9813852813852814,\n",
       " 0.9766233766233766,\n",
       " 0.9906926406926407,\n",
       " 0.9720779220779221,\n",
       " 0.9861471861471862,\n",
       " 0.9906926406926407,\n",
       " 0.985930735930736,\n",
       " 0.9813852813852815]"
      ]
     },
     "execution_count": 27,
     "metadata": {},
     "output_type": "execute_result"
    }
   ],
   "source": [
    "recall"
   ]
  },
  {
   "cell_type": "code",
   "execution_count": 28,
   "metadata": {},
   "outputs": [
    {
     "name": "stdout",
     "output_type": "stream",
     "text": [
      "0.0038885369817932645\n",
      "0.7367622578313624\n",
      "(0.7338300972360468, 0.739694418426678)\n"
     ]
    }
   ],
   "source": [
    "import numpy as np\n",
    "import scipy.stats as st\n",
    "\n",
    "\n",
    "print(np.std(precision))\n",
    "print(np.mean(precision))\n",
    "print(st.t.interval(0.95, len(precision)-1, loc=np.mean(precision), scale=st.sem(precision)))\n",
    "\n"
   ]
  },
  {
   "cell_type": "code",
   "execution_count": 29,
   "metadata": {},
   "outputs": [
    {
     "name": "stdout",
     "output_type": "stream",
     "text": [
      "0.0059214465752930046\n",
      "0.9827489177489177\n",
      "(0.9782838368208886, 0.9872139986769468)\n"
     ]
    }
   ],
   "source": [
    "\n",
    "print(np.std(recall))\n",
    "print(np.mean(recall))\n",
    "print(st.t.interval(0.95, len(recall)-1, loc=np.mean(recall), scale=st.sem(recall)))\n"
   ]
  },
  {
   "cell_type": "code",
   "execution_count": 30,
   "metadata": {},
   "outputs": [
    {
     "data": {
      "text/plain": [
       "['random_forest_word_embedding.joblib']"
      ]
     },
     "execution_count": 30,
     "metadata": {},
     "output_type": "execute_result"
    }
   ],
   "source": [
    "import joblib\n",
    "joblib.dump(forest, \"random_forest_word_embedding.joblib\")"
   ]
  },
  {
   "cell_type": "code",
   "execution_count": null,
   "metadata": {},
   "outputs": [],
   "source": []
  }
 ],
 "metadata": {
  "kernelspec": {
   "display_name": "Python 3",
   "language": "python",
   "name": "python3"
  },
  "language_info": {
   "codemirror_mode": {
    "name": "ipython",
    "version": 3
   },
   "file_extension": ".py",
   "mimetype": "text/x-python",
   "name": "python",
   "nbconvert_exporter": "python",
   "pygments_lexer": "ipython3",
   "version": "3.7.6"
  }
 },
 "nbformat": 4,
 "nbformat_minor": 4
}
