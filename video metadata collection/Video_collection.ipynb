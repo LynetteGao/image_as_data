{
 "cells": [
  {
   "cell_type": "code",
   "execution_count": 1,
   "metadata": {},
   "outputs": [],
   "source": [
    "import pandas as pd\n",
    "from pytube import YouTube\n",
    "import numpy as np"
   ]
  },
  {
   "cell_type": "code",
   "execution_count": null,
   "metadata": {},
   "outputs": [],
   "source": [
    "'''\n",
    "Read in the spreadsheet, extract the video id's, and create a list storing the video links\n",
    "\n",
    "'''\n",
    "cmcsv = pd.read_excel(\"COVID19_youtube_dataset.xlsx\")\n",
    "vid = cmcsv['video_id']\n",
    "links = []\n",
    "for i in vid:\n",
    "    url = \"https://youtube.com/watch?v=\" + i.strip()\n",
    "    links.append(url)"
   ]
  }
 ],
 "metadata": {
  "kernelspec": {
   "display_name": "Python 3",
   "language": "python",
   "name": "python3"
  },
  "language_info": {
   "codemirror_mode": {
    "name": "ipython",
    "version": 3
   },
   "file_extension": ".py",
   "mimetype": "text/x-python",
   "name": "python",
   "nbconvert_exporter": "python",
   "pygments_lexer": "ipython3",
   "version": "3.7.6"
  }
 },
 "nbformat": 4,
 "nbformat_minor": 4
}
